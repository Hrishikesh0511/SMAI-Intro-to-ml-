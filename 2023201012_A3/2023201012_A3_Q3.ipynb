{
  "metadata": {
    "colab": {
      "provenance": [],
      "gpuType": "T4"
    },
    "kernelspec": {
      "name": "python3",
      "display_name": "Python 3",
      "language": "python"
    },
    "language_info": {
      "name": "python",
      "version": "3.10.13",
      "mimetype": "text/x-python",
      "codemirror_mode": {
        "name": "ipython",
        "version": 3
      },
      "pygments_lexer": "ipython3",
      "nbconvert_exporter": "python",
      "file_extension": ".py"
    },
    "accelerator": "GPU",
    "kaggle": {
      "accelerator": "nvidiaTeslaT4",
      "dataSources": [],
      "dockerImageVersionId": 30673,
      "isInternetEnabled": true,
      "language": "python",
      "sourceType": "notebook",
      "isGpuEnabled": true
    }
  },
  "nbformat_minor": 0,
  "nbformat": 4,
  "cells": [
    {
      "cell_type": "markdown",
      "source": [
        "# Sentiment Classification Using RNNs\n",
        "\n",
        "* Given the IMDB Movie Review Dataset, create an RNN model that predicts whether the given review is negative or positive.\n",
        "* You need to create your Dataset, Dataloader and Model. Keep your code modular and avoid hardcoding any parameter. This will allow you to experiment more easily.\n",
        "* Plot graphs for loss and accuracy for each epoch of a training loop. Try using wandb for logging training and validation losses, accuracies.\n",
        "* Use tqdm to keep track of the status of the training loop for an epoch"
      ],
      "metadata": {
        "id": "IdzeYa_AqAuk"
      }
    },
    {
      "cell_type": "markdown",
      "source": [
        "### 1. RNN Model\n",
        "#### 1.1 Build a Dataset from the IMDB Movie Review Dataset by taking reviews with word count between 100 and 500. Perform text processing on the movie reviews and create a word to index mapping for representing any review as a list of numbers.\n",
        "#### 1.2 Create Dataloaders for the train, test and validation datasets with appropriate batch sizes.\n",
        "#### 1.3 Create the Model class for the RNN Model. Create functions for running model training and testing."
      ],
      "metadata": {
        "id": "Q6NN7DndxvFt"
      }
    },
    {
      "cell_type": "code",
      "source": [
        "!pip install datasets torchmetrics"
      ],
      "metadata": {
        "id": "DpR8af5l1FZK",
        "colab": {
          "base_uri": "https://localhost:8080/"
        },
        "outputId": "ab16638f-e934-43a0-d194-fd5a1b80bdb6",
        "execution": {
          "iopub.status.busy": "2024-03-28T10:22:01.672850Z",
          "iopub.execute_input": "2024-03-28T10:22:01.673177Z",
          "iopub.status.idle": "2024-03-28T10:22:15.859640Z",
          "shell.execute_reply.started": "2024-03-28T10:22:01.673152Z",
          "shell.execute_reply": "2024-03-28T10:22:15.858693Z"
        },
        "trusted": true
      },
      "execution_count": null,
      "outputs": [
        {
          "name": "stdout",
          "text": "Requirement already satisfied: datasets in /opt/conda/lib/python3.10/site-packages (2.1.0)\nRequirement already satisfied: torchmetrics in /opt/conda/lib/python3.10/site-packages (1.3.2)\nRequirement already satisfied: numpy>=1.17 in /opt/conda/lib/python3.10/site-packages (from datasets) (1.26.4)\nRequirement already satisfied: pyarrow>=5.0.0 in /opt/conda/lib/python3.10/site-packages (from datasets) (11.0.0)\nRequirement already satisfied: dill in /opt/conda/lib/python3.10/site-packages (from datasets) (0.3.8)\nRequirement already satisfied: pandas in /opt/conda/lib/python3.10/site-packages (from datasets) (2.1.4)\nRequirement already satisfied: requests>=2.19.0 in /opt/conda/lib/python3.10/site-packages (from datasets) (2.31.0)\nRequirement already satisfied: tqdm>=4.62.1 in /opt/conda/lib/python3.10/site-packages (from datasets) (4.66.1)\nRequirement already satisfied: xxhash in /opt/conda/lib/python3.10/site-packages (from datasets) (3.4.1)\nRequirement already satisfied: multiprocess in /opt/conda/lib/python3.10/site-packages (from datasets) (0.70.16)\nRequirement already satisfied: fsspec>=2021.05.0 in /opt/conda/lib/python3.10/site-packages (from fsspec[http]>=2021.05.0->datasets) (2024.3.0)\nRequirement already satisfied: aiohttp in /opt/conda/lib/python3.10/site-packages (from datasets) (3.9.1)\nRequirement already satisfied: huggingface-hub<1.0.0,>=0.1.0 in /opt/conda/lib/python3.10/site-packages (from datasets) (0.21.4)\nRequirement already satisfied: packaging in /opt/conda/lib/python3.10/site-packages (from datasets) (21.3)\nRequirement already satisfied: responses<0.19 in /opt/conda/lib/python3.10/site-packages (from datasets) (0.18.0)\nRequirement already satisfied: torch>=1.10.0 in /opt/conda/lib/python3.10/site-packages (from torchmetrics) (2.1.2)\nRequirement already satisfied: lightning-utilities>=0.8.0 in /opt/conda/lib/python3.10/site-packages (from torchmetrics) (0.10.1)\nRequirement already satisfied: attrs>=17.3.0 in /opt/conda/lib/python3.10/site-packages (from aiohttp->datasets) (23.2.0)\nRequirement already satisfied: multidict<7.0,>=4.5 in /opt/conda/lib/python3.10/site-packages (from aiohttp->datasets) (6.0.4)\nRequirement already satisfied: yarl<2.0,>=1.0 in /opt/conda/lib/python3.10/site-packages (from aiohttp->datasets) (1.9.3)\nRequirement already satisfied: frozenlist>=1.1.1 in /opt/conda/lib/python3.10/site-packages (from aiohttp->datasets) (1.4.1)\nRequirement already satisfied: aiosignal>=1.1.2 in /opt/conda/lib/python3.10/site-packages (from aiohttp->datasets) (1.3.1)\nRequirement already satisfied: async-timeout<5.0,>=4.0 in /opt/conda/lib/python3.10/site-packages (from aiohttp->datasets) (4.0.3)\nRequirement already satisfied: filelock in /opt/conda/lib/python3.10/site-packages (from huggingface-hub<1.0.0,>=0.1.0->datasets) (3.13.1)\nRequirement already satisfied: pyyaml>=5.1 in /opt/conda/lib/python3.10/site-packages (from huggingface-hub<1.0.0,>=0.1.0->datasets) (6.0.1)\nRequirement already satisfied: typing-extensions>=3.7.4.3 in /opt/conda/lib/python3.10/site-packages (from huggingface-hub<1.0.0,>=0.1.0->datasets) (4.9.0)\nRequirement already satisfied: setuptools in /opt/conda/lib/python3.10/site-packages (from lightning-utilities>=0.8.0->torchmetrics) (69.0.3)\nRequirement already satisfied: pyparsing!=3.0.5,>=2.0.2 in /opt/conda/lib/python3.10/site-packages (from packaging->datasets) (3.1.1)\nRequirement already satisfied: charset-normalizer<4,>=2 in /opt/conda/lib/python3.10/site-packages (from requests>=2.19.0->datasets) (3.3.2)\nRequirement already satisfied: idna<4,>=2.5 in /opt/conda/lib/python3.10/site-packages (from requests>=2.19.0->datasets) (3.6)\nRequirement already satisfied: urllib3<3,>=1.21.1 in /opt/conda/lib/python3.10/site-packages (from requests>=2.19.0->datasets) (1.26.18)\nRequirement already satisfied: certifi>=2017.4.17 in /opt/conda/lib/python3.10/site-packages (from requests>=2.19.0->datasets) (2024.2.2)\nRequirement already satisfied: sympy in /opt/conda/lib/python3.10/site-packages (from torch>=1.10.0->torchmetrics) (1.12)\nRequirement already satisfied: networkx in /opt/conda/lib/python3.10/site-packages (from torch>=1.10.0->torchmetrics) (3.2.1)\nRequirement already satisfied: jinja2 in /opt/conda/lib/python3.10/site-packages (from torch>=1.10.0->torchmetrics) (3.1.2)\nRequirement already satisfied: python-dateutil>=2.8.2 in /opt/conda/lib/python3.10/site-packages (from pandas->datasets) (2.9.0.post0)\nRequirement already satisfied: pytz>=2020.1 in /opt/conda/lib/python3.10/site-packages (from pandas->datasets) (2023.3.post1)\nRequirement already satisfied: tzdata>=2022.1 in /opt/conda/lib/python3.10/site-packages (from pandas->datasets) (2023.4)\nRequirement already satisfied: six>=1.5 in /opt/conda/lib/python3.10/site-packages (from python-dateutil>=2.8.2->pandas->datasets) (1.16.0)\nRequirement already satisfied: MarkupSafe>=2.0 in /opt/conda/lib/python3.10/site-packages (from jinja2->torch>=1.10.0->torchmetrics) (2.1.3)\nRequirement already satisfied: mpmath>=0.19 in /opt/conda/lib/python3.10/site-packages (from sympy->torch>=1.10.0->torchmetrics) (1.3.0)\n",
          "output_type": "stream"
        }
      ]
    },
    {
      "cell_type": "code",
      "source": [
        "import numpy as np\n",
        "import matplotlib.pyplot as plt\n",
        "\n",
        "from datasets import load_dataset\n",
        "import re\n",
        "from nltk.tokenize import RegexpTokenizer\n",
        "from nltk.stem import WordNetLemmatizer\n",
        "\n",
        "import torch\n",
        "from torch import nn\n",
        "import torch.optim as optim\n",
        "from torch.utils.data import Dataset, DataLoader\n",
        "from torch.nn.utils.rnn import pad_sequence\n",
        "from torchmetrics import Accuracy\n",
        "\n",
        "from tqdm import tqdm"
      ],
      "metadata": {
        "id": "DKFUUtZV09Ap",
        "execution": {
          "iopub.status.busy": "2024-03-28T10:22:15.861490Z",
          "iopub.execute_input": "2024-03-28T10:22:15.861800Z",
          "iopub.status.idle": "2024-03-28T10:22:29.227097Z",
          "shell.execute_reply.started": "2024-03-28T10:22:15.861770Z",
          "shell.execute_reply": "2024-03-28T10:22:29.226008Z"
        },
        "trusted": true
      },
      "execution_count": null,
      "outputs": []
    },
    {
      "cell_type": "code",
      "source": [
        "SEED = 1234\n",
        "\n",
        "# set seed for all possible random functions to ensure reproducibility\n",
        "np.random.seed(SEED)\n",
        "torch.manual_seed(SEED)\n",
        "torch.cuda.manual_seed_all(SEED)\n",
        "torch.backends.cudnn.deterministic=True"
      ],
      "metadata": {
        "id": "DbVR4diJ4BxO",
        "execution": {
          "iopub.status.busy": "2024-03-28T10:22:29.228459Z",
          "iopub.execute_input": "2024-03-28T10:22:29.228954Z",
          "iopub.status.idle": "2024-03-28T10:22:29.237437Z",
          "shell.execute_reply.started": "2024-03-28T10:22:29.228928Z",
          "shell.execute_reply": "2024-03-28T10:22:29.236474Z"
        },
        "trusted": true
      },
      "execution_count": null,
      "outputs": []
    },
    {
      "cell_type": "code",
      "source": [
        "device = \"cuda\" if torch.cuda.is_available() else \"cpu\"\n",
        "print(f\"Using {device} device\")"
      ],
      "metadata": {
        "id": "b-6qkjYjbhhs",
        "colab": {
          "base_uri": "https://localhost:8080/"
        },
        "outputId": "7e9a9321-140c-4204-8738-654d56036c43",
        "execution": {
          "iopub.status.busy": "2024-03-28T10:22:29.240243Z",
          "iopub.execute_input": "2024-03-28T10:22:29.240630Z",
          "iopub.status.idle": "2024-03-28T10:22:29.311271Z",
          "shell.execute_reply.started": "2024-03-28T10:22:29.240594Z",
          "shell.execute_reply": "2024-03-28T10:22:29.310027Z"
        },
        "trusted": true
      },
      "execution_count": null,
      "outputs": [
        {
          "name": "stdout",
          "text": "Using cuda device\n",
          "output_type": "stream"
        }
      ]
    },
    {
      "cell_type": "code",
      "source": [
        "# load the IMDB review dataset. You can take the dataset from Huggingface\n",
        "imdb_dataset = load_dataset(\"imdb\", cache_dir=\"path/to/cache/directory\")\n"
      ],
      "metadata": {
        "id": "O39R0KOF1Iw7",
        "execution": {
          "iopub.status.busy": "2024-03-28T10:22:29.312798Z",
          "iopub.execute_input": "2024-03-28T10:22:29.313200Z",
          "iopub.status.idle": "2024-03-28T10:23:11.496949Z",
          "shell.execute_reply.started": "2024-03-28T10:22:29.313165Z",
          "shell.execute_reply": "2024-03-28T10:23:11.496090Z"
        },
        "trusted": true,
        "outputId": "edbaf5e7-9818-4039-cc5a-33ce376a0405",
        "colab": {
          "referenced_widgets": [
            "29247ffa8c8244fda3af3c4621ff407c",
            "bce5b124bf89493a9fc738898bfe68e5",
            "19912d6ca4bc49c587e919c967771638",
            "",
            "6cbf9a27d0084203bd9044c75b07588d"
          ]
        }
      },
      "execution_count": null,
      "outputs": [
        {
          "output_type": "display_data",
          "data": {
            "text/plain": "Downloading builder script:   0%|          | 0.00/1.79k [00:00<?, ?B/s]",
            "application/vnd.jupyter.widget-view+json": {
              "version_major": 2,
              "version_minor": 0,
              "model_id": "29247ffa8c8244fda3af3c4621ff407c"
            }
          },
          "metadata": {}
        },
        {
          "output_type": "display_data",
          "data": {
            "text/plain": "Downloading metadata:   0%|          | 0.00/1.05k [00:00<?, ?B/s]",
            "application/vnd.jupyter.widget-view+json": {
              "version_major": 2,
              "version_minor": 0,
              "model_id": "bce5b124bf89493a9fc738898bfe68e5"
            }
          },
          "metadata": {}
        },
        {
          "name": "stdout",
          "text": "Downloading and preparing dataset imdb/plain_text (download: 80.23 MiB, generated: 127.02 MiB, post-processed: Unknown size, total: 207.25 MiB) to path/to/cache/directory/imdb/plain_text/1.0.0/2fdd8b9bcadd6e7055e742a706876ba43f19faee861df134affd7a3f60fc38a1...\n",
          "output_type": "stream"
        },
        {
          "output_type": "display_data",
          "data": {
            "text/plain": "Downloading data:   0%|          | 0.00/84.1M [00:00<?, ?B/s]",
            "application/vnd.jupyter.widget-view+json": {
              "version_major": 2,
              "version_minor": 0,
              "model_id": "19912d6ca4bc49c587e919c967771638"
            }
          },
          "metadata": {}
        },
        {
          "output_type": "display_data",
          "data": {
            "text/plain": "Generating train split:   0%|          | 0/25000 [00:00<?, ? examples/s]",
            "application/vnd.jupyter.widget-view+json": {
              "version_major": 2,
              "version_minor": 0,
              "model_id": ""
            }
          },
          "metadata": {}
        },
        {
          "output_type": "display_data",
          "data": {
            "text/plain": "Generating test split:   0%|          | 0/25000 [00:00<?, ? examples/s]",
            "application/vnd.jupyter.widget-view+json": {
              "version_major": 2,
              "version_minor": 0,
              "model_id": ""
            }
          },
          "metadata": {}
        },
        {
          "output_type": "display_data",
          "data": {
            "text/plain": "Generating unsupervised split:   0%|          | 0/50000 [00:00<?, ? examples/s]",
            "application/vnd.jupyter.widget-view+json": {
              "version_major": 2,
              "version_minor": 0,
              "model_id": ""
            }
          },
          "metadata": {}
        },
        {
          "name": "stdout",
          "text": "Dataset imdb downloaded and prepared to path/to/cache/directory/imdb/plain_text/1.0.0/2fdd8b9bcadd6e7055e742a706876ba43f19faee861df134affd7a3f60fc38a1. Subsequent calls will reuse this data.\n",
          "output_type": "stream"
        },
        {
          "output_type": "display_data",
          "data": {
            "text/plain": "  0%|          | 0/3 [00:00<?, ?it/s]",
            "application/vnd.jupyter.widget-view+json": {
              "version_major": 2,
              "version_minor": 0,
              "model_id": "6cbf9a27d0084203bd9044c75b07588d"
            }
          },
          "metadata": {}
        }
      ]
    },
    {
      "cell_type": "code",
      "source": [
        "print(imdb_dataset)"
      ],
      "metadata": {
        "colab": {
          "base_uri": "https://localhost:8080/"
        },
        "id": "UiuXMD61R-F1",
        "outputId": "1b493320-2e4a-44a9-f854-53669588f6fe",
        "execution": {
          "iopub.status.busy": "2024-03-28T10:23:11.498030Z",
          "iopub.execute_input": "2024-03-28T10:23:11.498315Z",
          "iopub.status.idle": "2024-03-28T10:23:11.503384Z",
          "shell.execute_reply.started": "2024-03-28T10:23:11.498291Z",
          "shell.execute_reply": "2024-03-28T10:23:11.502379Z"
        },
        "trusted": true
      },
      "execution_count": null,
      "outputs": [
        {
          "name": "stdout",
          "text": "DatasetDict({\n    train: Dataset({\n        features: ['text', 'label'],\n        num_rows: 25000\n    })\n    test: Dataset({\n        features: ['text', 'label'],\n        num_rows: 25000\n    })\n    unsupervised: Dataset({\n        features: ['text', 'label'],\n        num_rows: 50000\n    })\n})\n",
          "output_type": "stream"
        }
      ]
    },
    {
      "cell_type": "code",
      "source": [
        "# Split the train set into train and validation in 80-20 split. Use the labels\n",
        "# to ensure that the ratio of the samples from each label is maintained\n",
        "#splitting the data based on the above structure of the dataset\n",
        "from sklearn.model_selection import train_test_split\n",
        "\n",
        "\n",
        "train_data = imdb_dataset['train']\n",
        "train_text = train_data['text']\n",
        "train_labels = train_data['label']\n",
        "\n",
        "train_texts, val_texts, train_labels, val_labels = train_test_split(train_text, train_labels, test_size=0.2, stratify=train_labels, random_state=42)\n",
        "test_texts = imdb_dataset['test']['text']\n",
        "test_labels = imdb_dataset['test']['label']"
      ],
      "metadata": {
        "id": "9a4eux6zDy7t",
        "execution": {
          "iopub.status.busy": "2024-03-28T10:23:11.504679Z",
          "iopub.execute_input": "2024-03-28T10:23:11.505044Z",
          "iopub.status.idle": "2024-03-28T10:23:11.703746Z",
          "shell.execute_reply.started": "2024-03-28T10:23:11.505009Z",
          "shell.execute_reply": "2024-03-28T10:23:11.702944Z"
        },
        "trusted": true
      },
      "execution_count": null,
      "outputs": []
    },
    {
      "cell_type": "code",
      "source": [
        "import nltk\n",
        "import re\n",
        "from nltk.tokenize import RegexpTokenizer\n",
        "def clean(text, tokenizer):\n",
        "  # Perform text preprocessing:\n",
        "  # 1. Removing numbers OR replace them with \"num\" token\n",
        "  # 2. Convert all characters to lowercase.\n",
        "  # 3. Tokenize the sentence into words\n",
        "  # You can use RegexpTokenizer from NLTK.\n",
        "  num_pattern = r'\\b\\d+\\b'\\\n",
        "\n",
        "  text = re.sub(num_pattern, 'num', text)\n",
        "\n",
        "  text = text.lower()\n",
        "\n",
        "  text = tokenizer.tokenize(text)\n",
        "\n",
        "  # You will experiment with stemming/lemmatization down the line\n",
        "  # so you can skip that for now\n",
        "\n",
        "  return text"
      ],
      "metadata": {
        "id": "hJvJGlDo3rHa",
        "execution": {
          "iopub.status.busy": "2024-03-28T10:23:11.704804Z",
          "iopub.execute_input": "2024-03-28T10:23:11.705092Z",
          "iopub.status.idle": "2024-03-28T10:23:11.710938Z",
          "shell.execute_reply.started": "2024-03-28T10:23:11.705068Z",
          "shell.execute_reply": "2024-03-28T10:23:11.709969Z"
        },
        "trusted": true
      },
      "execution_count": null,
      "outputs": []
    },
    {
      "cell_type": "code",
      "source": [
        "# create a word to index dictionary so that each word in the training set\n",
        "# has a number associated with it. This allows to represent each sentence\n",
        "# as a series of numbers. Start the index with 1 instead of 0. The number\n",
        "# 0 will be used to denote padding, so that each sentence can have the\n",
        "# same length.\n",
        "# Keep track of the index since it will be used for representing new words\n",
        "# that were not part of the training vocabulary.\n",
        "# Also, make sure to not create dictionary on sentences with word count\n",
        "# not within the range\n",
        "tokenizer = RegexpTokenizer(r'\\w+')\n",
        "def get_word2idx(corpus , minlen , maxlen):\n",
        "  idx = 1\n",
        "  word2idx = {}\n",
        "  #word2idx['pad'] = 0\n",
        "  for sentence in tqdm(corpus, total=len(corpus), desc=\"Creating word2idx\"):\n",
        "    # process sentence\n",
        "    sentence = clean(sentence, tokenizer)\n",
        "    words =sentence\n",
        "\n",
        "    # drop sentences greater than maxlen or less than minlen\n",
        "    if(minlen<=len(words) and len(words)<=maxlen):\n",
        "    # for each word in sentence, check for entry in word2idx\n",
        "      for word in words:\n",
        "        if word not in word2idx:\n",
        "          word2idx[word] = idx\n",
        "          idx += 1\n",
        "\n",
        "\n",
        "  return idx, word2idx"
      ],
      "metadata": {
        "id": "WEDLk2ZXUwVU",
        "execution": {
          "iopub.status.busy": "2024-03-28T10:23:11.712319Z",
          "iopub.execute_input": "2024-03-28T10:23:11.712754Z",
          "iopub.status.idle": "2024-03-28T10:23:11.725958Z",
          "shell.execute_reply.started": "2024-03-28T10:23:11.712722Z",
          "shell.execute_reply": "2024-03-28T10:23:11.725068Z"
        },
        "trusted": true
      },
      "execution_count": null,
      "outputs": []
    },
    {
      "cell_type": "code",
      "source": [
        "vocab_size, word2idx = get_word2idx(train_texts, 100, 500)"
      ],
      "metadata": {
        "colab": {
          "base_uri": "https://localhost:8080/"
        },
        "id": "EdiPu2sEvDw6",
        "outputId": "905741a0-0c71-4f39-eea6-7e624238fbef",
        "execution": {
          "iopub.status.busy": "2024-03-28T10:23:11.729618Z",
          "iopub.execute_input": "2024-03-28T10:23:11.729864Z",
          "iopub.status.idle": "2024-03-28T10:23:15.281614Z",
          "shell.execute_reply.started": "2024-03-28T10:23:11.729838Z",
          "shell.execute_reply": "2024-03-28T10:23:15.280641Z"
        },
        "trusted": true
      },
      "execution_count": null,
      "outputs": [
        {
          "name": "stderr",
          "text": "Creating word2idx: 100%|██████████| 20000/20000 [00:03<00:00, 5648.02it/s]\n",
          "output_type": "stream"
        }
      ]
    },
    {
      "cell_type": "code",
      "source": [
        "# Build a Dataset object to store each sentence as a tensor of numbers\n",
        "# along with the label. Make sure to add padding so that the tensor\n",
        "# for each sentence is of the same length. This will allow us to train\n",
        "# the model in batches.\n",
        "\n",
        "class IMDBDataset(Dataset):\n",
        "  def __init__(self, dataset,labels, word2idx, minlen : int = 100, maxlen : int = 500):\n",
        "    self.count = 0 # total sentences you finally pick\n",
        "\n",
        "    # count total number of lines\n",
        "    #len = len(dataset)\n",
        "\n",
        "    input_data = []\n",
        "    target_data = []\n",
        "    corpus = dataset\n",
        "    word2idx['UNK'] = vocab_size\n",
        "    #for idx, sentence in tqdm(enumerate(corpus), total=len, desc=f\"Transforming input text [{split}]\"):\n",
        "    for sentence , label in tqdm(zip(dataset,labels),total=len(dataset), desc=f\"Transforming input text\"):\n",
        "      # process sentence\n",
        "      sentence = clean(sentence , tokenizer)\n",
        "      # drop sentences greater than maxlen or less than minlen\n",
        "      words = sentence\n",
        "      if(len(words)<minlen or maxlen<len(words)):continue\n",
        "\n",
        "      # replace words with their index\n",
        "      indices= [word2idx.get(word, vocab_size) for word in words]\n",
        "\n",
        "      #pad_sequence doesnt take in list so for the pad_sequence we need to convert the input list to tensor form then it will accept it\n",
        "      input_data.append(torch.tensor(indices))\n",
        "\n",
        "      target_data.append(label)\n",
        "\n",
        "      self.count += 1\n",
        "\n",
        "    # pad the sentences upto maxlen\n",
        "    self.inputs = pad_sequence(input_data, batch_first = True,padding_value=0)\n",
        "    #self.inputs = torch.tensor(input_data)\n",
        "    self.targets = torch.tensor(target_data)\n",
        "\n",
        "  def __len__(self) -> int:\n",
        "    return self.count\n",
        "\n",
        "  def __getitem__(self, index : int):\n",
        "    return self.inputs[index], self.targets[index]"
      ],
      "metadata": {
        "id": "bGjvrcNZ6uzx",
        "execution": {
          "iopub.status.busy": "2024-03-28T10:23:15.282862Z",
          "iopub.execute_input": "2024-03-28T10:23:15.283184Z",
          "iopub.status.idle": "2024-03-28T10:23:15.295703Z",
          "shell.execute_reply.started": "2024-03-28T10:23:15.283157Z",
          "shell.execute_reply": "2024-03-28T10:23:15.294630Z"
        },
        "trusted": true
      },
      "execution_count": null,
      "outputs": []
    },
    {
      "cell_type": "code",
      "source": [
        "# create the train dataset using the word2idx dictionary built using the train set\n",
        "train_ds = IMDBDataset(train_texts , train_labels , word2idx,minlen = 100, maxlen = 500)\n",
        "# create the validation and test dataset using the word2idx dictionary built using the train set\n",
        "val_ds = IMDBDataset(val_texts , val_labels , word2idx,minlen = 100, maxlen = 500)\n",
        "test_ds = IMDBDataset(test_texts , test_labels , word2idx,minlen = 100, maxlen = 500)"
      ],
      "metadata": {
        "id": "CGQ-5qXKG0Ag",
        "colab": {
          "base_uri": "https://localhost:8080/"
        },
        "outputId": "4ce8fa17-32d7-42e7-bb9d-dbd4c372318f",
        "execution": {
          "iopub.status.busy": "2024-03-28T10:23:15.296766Z",
          "iopub.execute_input": "2024-03-28T10:23:15.298600Z",
          "iopub.status.idle": "2024-03-28T10:23:29.105117Z",
          "shell.execute_reply.started": "2024-03-28T10:23:15.298574Z",
          "shell.execute_reply": "2024-03-28T10:23:29.104305Z"
        },
        "trusted": true
      },
      "execution_count": null,
      "outputs": [
        {
          "name": "stderr",
          "text": "Transforming input text: 100%|██████████| 20000/20000 [00:05<00:00, 3678.53it/s]\nTransforming input text: 100%|██████████| 5000/5000 [00:01<00:00, 3760.21it/s]\nTransforming input text: 100%|██████████| 25000/25000 [00:06<00:00, 3759.66it/s]\n",
          "output_type": "stream"
        }
      ]
    },
    {
      "cell_type": "code",
      "source": [
        "len(train_ds), len(val_ds), len(test_ds)"
      ],
      "metadata": {
        "id": "sgVEZqCNfIcC",
        "colab": {
          "base_uri": "https://localhost:8080/"
        },
        "outputId": "4891ab83-94b6-48a9-80c3-7ef1f2196759",
        "execution": {
          "iopub.status.busy": "2024-03-28T10:23:29.106913Z",
          "iopub.execute_input": "2024-03-28T10:23:29.107242Z",
          "iopub.status.idle": "2024-03-28T10:23:29.114070Z",
          "shell.execute_reply.started": "2024-03-28T10:23:29.107215Z",
          "shell.execute_reply": "2024-03-28T10:23:29.113117Z"
        },
        "trusted": true
      },
      "execution_count": null,
      "outputs": [
        {
          "execution_count": 13,
          "output_type": "execute_result",
          "data": {
            "text/plain": "(16059, 4010, 20078)"
          },
          "metadata": {}
        }
      ]
    },
    {
      "cell_type": "code",
      "source": [
        "# create dataloaders using the dataset\n",
        "params = {\n",
        "    'batch_size':256,\n",
        "    'shuffle': True,\n",
        "    'num_workers': 2\n",
        "}\n",
        "\n",
        "train_dataloader = DataLoader(train_ds, **params)\n",
        "val_dataloader = DataLoader(val_ds, **params)\n",
        "test_dataloader = DataLoader(test_ds, **params)"
      ],
      "metadata": {
        "id": "FFQcp_oLTtDi",
        "execution": {
          "iopub.status.busy": "2024-03-28T10:23:29.115441Z",
          "iopub.execute_input": "2024-03-28T10:23:29.115738Z",
          "iopub.status.idle": "2024-03-28T10:23:29.123591Z",
          "shell.execute_reply.started": "2024-03-28T10:23:29.115713Z",
          "shell.execute_reply": "2024-03-28T10:23:29.122731Z"
        },
        "trusted": true
      },
      "execution_count": null,
      "outputs": []
    },
    {
      "cell_type": "code",
      "source": [
        "import torch.nn.functional as F\n",
        "\n",
        "\n",
        "class RNNModel(nn.Module):\n",
        "    def __init__(self, vocab_size, embedding_dim, hidden_size, num_layers, num_classes, dropout=0.5):\n",
        "        super(RNNModel, self).__init__()\n",
        "        self.embedding = nn.Embedding(vocab_size, embedding_dim)\n",
        "        self.rnn = nn.RNN(embedding_dim, hidden_size, num_layers=num_layers, batch_first=True, dropout=dropout)\n",
        "        self.fc1 = nn.Linear(hidden_size, hidden_size // 2)\n",
        "        self.fc2 = nn.Linear(hidden_size // 2, num_classes)\n",
        "        self.dropout = nn.Dropout(dropout)\n",
        "\n",
        "    def forward(self, X):\n",
        "        #We pass the input tensor of indices to Embedding to get a dense vector embedding of the dimensions embed_size\n",
        "        embedded = self.embedding(X)\n",
        "        output, _ = self.rnn(embedded)\n",
        "        out = torch.max(output, dim=1)[0]\n",
        "#         pooled = self.dropout(pooled)\n",
        "        hidden = F.relu(self.fc1(out))\n",
        "        logits = self.fc2(hidden)\n",
        "        return logits"
      ],
      "metadata": {
        "id": "Fa5dHAINMB0b",
        "execution": {
          "iopub.status.busy": "2024-03-28T10:23:29.124817Z",
          "iopub.execute_input": "2024-03-28T10:23:29.125125Z",
          "iopub.status.idle": "2024-03-28T10:23:29.134696Z",
          "shell.execute_reply.started": "2024-03-28T10:23:29.125082Z",
          "shell.execute_reply": "2024-03-28T10:23:29.133907Z"
        },
        "trusted": true
      },
      "execution_count": null,
      "outputs": []
    },
    {
      "cell_type": "code",
      "source": [
        "# Hyperparameters\n",
        "hidden_size = 256\n",
        "embedding_dim = 128\n",
        "learning_rate = 1e-3\n",
        "epochs = 5\n",
        "num_classes = len(set(train_labels))\n",
        "vocab_size = len(word2idx)+1\n",
        "\n",
        "# create the model\n",
        "model = RNNModel(vocab_size, hidden_size, embedding_dim, 3,num_classes).to(device)\n",
        "\n",
        "# create optimizer\n",
        "criterion = nn.CrossEntropyLoss()\n",
        "optimizer = optim.Adam(model.parameters(), lr=learning_rate)\n",
        "print(model)"
      ],
      "metadata": {
        "id": "rndJltB9ZDlu",
        "colab": {
          "base_uri": "https://localhost:8080/"
        },
        "outputId": "252f6bc3-239c-4581-e6cc-653bec4b44ed",
        "execution": {
          "iopub.status.busy": "2024-03-28T10:23:29.135842Z",
          "iopub.execute_input": "2024-03-28T10:23:29.136158Z",
          "iopub.status.idle": "2024-03-28T10:23:30.565979Z",
          "shell.execute_reply.started": "2024-03-28T10:23:29.136126Z",
          "shell.execute_reply": "2024-03-28T10:23:30.565045Z"
        },
        "trusted": true
      },
      "execution_count": null,
      "outputs": [
        {
          "name": "stdout",
          "text": "RNNModel(\n  (embedding): Embedding(58539, 256)\n  (rnn): RNN(256, 128, num_layers=3, batch_first=True, dropout=0.5)\n  (fc1): Linear(in_features=128, out_features=64, bias=True)\n  (fc2): Linear(in_features=64, out_features=2, bias=True)\n  (dropout): Dropout(p=0.5, inplace=False)\n)\n",
          "output_type": "stream"
        }
      ]
    },
    {
      "cell_type": "code",
      "source": [
        "def train_model(model, trainloader, valloader, learning_rate=1e-3, epochs=10):\n",
        "    device = torch.device(\"cuda\" if torch.cuda.is_available() else \"cpu\")\n",
        "    criterion = nn.CrossEntropyLoss()\n",
        "    optimizer = optim.Adam(model.parameters(), lr=learning_rate)\n",
        "\n",
        "    train_losses = []\n",
        "    val_losses = []\n",
        "    val_accuracy = []\n",
        "    best_val_loss = float('inf')\n",
        "\n",
        "    for epoch in range(epochs):\n",
        "        ## TRAINING STEP\n",
        "        model.train()\n",
        "        train_loss = 0.0\n",
        "        for input_batch, output_batch in tqdm(trainloader, total=len(trainloader), desc=\"Training\"):\n",
        "            input_batch, output_batch = input_batch.to(device), output_batch.to(device)\n",
        "\n",
        "            # Forward pass\n",
        "            optimizer.zero_grad()\n",
        "            outputs = model(input_batch)\n",
        "\n",
        "            # Calculate loss\n",
        "            loss = criterion(outputs, output_batch)\n",
        "\n",
        "            # Backward pass and optimization\n",
        "            loss.backward()\n",
        "            optimizer.step()\n",
        "\n",
        "            train_loss += loss.item()\n",
        "\n",
        "        train_loss /= len(trainloader)\n",
        "        train_losses.append(train_loss)\n",
        "\n",
        "        ## VALIDATION STEP\n",
        "        model.eval()\n",
        "        val_loss = 0.0\n",
        "        correct = 0\n",
        "        total = 0\n",
        "\n",
        "        with torch.no_grad():\n",
        "            for input_batch, output_batch in tqdm(valloader, total=len(valloader), desc=\"Validation\"):\n",
        "                input_batch, output_batch = input_batch.to(device), output_batch.to(device)\n",
        "\n",
        "                # Forward pass\n",
        "                outputs = model(input_batch)\n",
        "\n",
        "                # Calculate loss\n",
        "                loss = criterion(outputs, output_batch)\n",
        "                val_loss += loss.item()\n",
        "\n",
        "                # Calculate accuracy\n",
        "                _, predicted = torch.max(outputs, 1)\n",
        "                total += output_batch.size(0)\n",
        "                correct += (predicted == output_batch).sum().item()\n",
        "\n",
        "        val_loss /= len(valloader)\n",
        "        val_losses.append(val_loss)\n",
        "        accuracy = 100 * correct / total\n",
        "        val_accuracy.append(accuracy)\n",
        "\n",
        "        print(f\"Epoch {epoch + 1}/{epochs}: Train Loss: {train_loss:.4f}, Val Loss: {val_loss:.4f}, Val Accuracy: {accuracy:.2f}%\")\n",
        "\n",
        "        # Save the best model\n",
        "        if epoch == 6:\n",
        "            best_val_loss = val_loss\n",
        "            best_model_state = model.state_dict()\n",
        "\n",
        "    model.load_state_dict(best_model_state)\n",
        "    return train_losses, val_losses, val_accuracy\n",
        "\n"
      ],
      "metadata": {
        "id": "9iakei6QOcyL",
        "execution": {
          "iopub.status.busy": "2024-03-28T10:23:30.567399Z",
          "iopub.execute_input": "2024-03-28T10:23:30.568047Z",
          "iopub.status.idle": "2024-03-28T10:23:30.582476Z",
          "shell.execute_reply.started": "2024-03-28T10:23:30.568013Z",
          "shell.execute_reply": "2024-03-28T10:23:30.581573Z"
        },
        "trusted": true
      },
      "execution_count": null,
      "outputs": []
    },
    {
      "cell_type": "code",
      "source": [
        "train_losses, val_losses, val_accuracy = train_model(model, train_dataloader, val_dataloader)"
      ],
      "metadata": {
        "id": "rFIt-RzEAh_8",
        "colab": {
          "base_uri": "https://localhost:8080/",
          "height": 304
        },
        "outputId": "0889461b-64d9-48d3-e23e-1d9985c53389",
        "execution": {
          "iopub.status.busy": "2024-03-28T10:23:30.584937Z",
          "iopub.execute_input": "2024-03-28T10:23:30.585807Z",
          "iopub.status.idle": "2024-03-28T10:24:04.760780Z",
          "shell.execute_reply.started": "2024-03-28T10:23:30.585780Z",
          "shell.execute_reply": "2024-03-28T10:24:04.759553Z"
        },
        "trusted": true
      },
      "execution_count": null,
      "outputs": [
        {
          "name": "stderr",
          "text": "Training: 100%|██████████| 63/63 [00:04<00:00, 14.64it/s]\nValidation: 100%|██████████| 16/16 [00:00<00:00, 47.57it/s]\n",
          "output_type": "stream"
        },
        {
          "name": "stdout",
          "text": "Epoch 1/10: Train Loss: 0.6937, Val Loss: 0.6763, Val Accuracy: 59.33%\n",
          "output_type": "stream"
        },
        {
          "name": "stderr",
          "text": "Training: 100%|██████████| 63/63 [00:02<00:00, 21.38it/s]\nValidation: 100%|██████████| 16/16 [00:00<00:00, 52.28it/s]\n",
          "output_type": "stream"
        },
        {
          "name": "stdout",
          "text": "Epoch 2/10: Train Loss: 0.6327, Val Loss: 0.6021, Val Accuracy: 66.96%\n",
          "output_type": "stream"
        },
        {
          "name": "stderr",
          "text": "Training: 100%|██████████| 63/63 [00:02<00:00, 21.27it/s]\nValidation: 100%|██████████| 16/16 [00:00<00:00, 54.94it/s]\n",
          "output_type": "stream"
        },
        {
          "name": "stdout",
          "text": "Epoch 3/10: Train Loss: 0.4973, Val Loss: 0.5837, Val Accuracy: 72.49%\n",
          "output_type": "stream"
        },
        {
          "name": "stderr",
          "text": "Training: 100%|██████████| 63/63 [00:02<00:00, 21.36it/s]\nValidation: 100%|██████████| 16/16 [00:00<00:00, 53.30it/s]\n",
          "output_type": "stream"
        },
        {
          "name": "stdout",
          "text": "Epoch 4/10: Train Loss: 0.3769, Val Loss: 0.4294, Val Accuracy: 81.60%\n",
          "output_type": "stream"
        },
        {
          "name": "stderr",
          "text": "Training: 100%|██████████| 63/63 [00:02<00:00, 21.28it/s]\nValidation: 100%|██████████| 16/16 [00:00<00:00, 54.31it/s]\n",
          "output_type": "stream"
        },
        {
          "name": "stdout",
          "text": "Epoch 5/10: Train Loss: 0.2872, Val Loss: 0.4055, Val Accuracy: 81.75%\n",
          "output_type": "stream"
        },
        {
          "name": "stderr",
          "text": "Training: 100%|██████████| 63/63 [00:02<00:00, 21.22it/s]\nValidation: 100%|██████████| 16/16 [00:00<00:00, 56.20it/s]\n",
          "output_type": "stream"
        },
        {
          "name": "stdout",
          "text": "Epoch 6/10: Train Loss: 0.2149, Val Loss: 0.3762, Val Accuracy: 84.14%\n",
          "output_type": "stream"
        },
        {
          "name": "stderr",
          "text": "Training: 100%|██████████| 63/63 [00:02<00:00, 21.08it/s]\nValidation: 100%|██████████| 16/16 [00:00<00:00, 53.13it/s]\n",
          "output_type": "stream"
        },
        {
          "name": "stdout",
          "text": "Epoch 7/10: Train Loss: 0.1782, Val Loss: 0.3681, Val Accuracy: 85.81%\n",
          "output_type": "stream"
        },
        {
          "name": "stderr",
          "text": "Training: 100%|██████████| 63/63 [00:03<00:00, 20.92it/s]\nValidation: 100%|██████████| 16/16 [00:00<00:00, 54.55it/s]\n",
          "output_type": "stream"
        },
        {
          "name": "stdout",
          "text": "Epoch 8/10: Train Loss: 0.1283, Val Loss: 0.4752, Val Accuracy: 83.77%\n",
          "output_type": "stream"
        },
        {
          "name": "stderr",
          "text": "Training: 100%|██████████| 63/63 [00:02<00:00, 21.06it/s]\nValidation: 100%|██████████| 16/16 [00:00<00:00, 54.42it/s]\n",
          "output_type": "stream"
        },
        {
          "name": "stdout",
          "text": "Epoch 9/10: Train Loss: 0.1212, Val Loss: 0.4259, Val Accuracy: 85.46%\n",
          "output_type": "stream"
        },
        {
          "name": "stderr",
          "text": "Training: 100%|██████████| 63/63 [00:02<00:00, 21.01it/s]\nValidation: 100%|██████████| 16/16 [00:00<00:00, 53.69it/s]",
          "output_type": "stream"
        },
        {
          "name": "stdout",
          "text": "Epoch 10/10: Train Loss: 0.0742, Val Loss: 0.4734, Val Accuracy: 84.71%\n",
          "output_type": "stream"
        },
        {
          "name": "stderr",
          "text": "\n",
          "output_type": "stream"
        }
      ]
    },
    {
      "cell_type": "code",
      "source": [
        "def test(model, test_loader):\n",
        "    model.eval()\n",
        "    correct = 0\n",
        "    total = 0\n",
        "\n",
        "    with torch.no_grad():\n",
        "        for input_batch, output_batch in tqdm(test_loader):\n",
        "            input_batch, output_batch = input_batch.to(device), output_batch.to(device)\n",
        "            #get outputs from the trained model\n",
        "            pred_outputs = model(input_batch)\n",
        "            _, predicted = torch.max(pred_outputs, dim=1)  # Get predicted class labels\n",
        "            total += output_batch.size(0)\n",
        "            correct += (predicted == output_batch).sum().item()\n",
        "\n",
        "    accuracy = 100 * (correct / total)\n",
        "    print(f\"Test Accuracy: {accuracy:.2f}%\")\n",
        "    return accuracy\n",
        "\n",
        "accuracy = test(model, test_dataloader)\n"
      ],
      "metadata": {
        "id": "cSiAyfTir5zy",
        "colab": {
          "base_uri": "https://localhost:8080/"
        },
        "outputId": "91b4bcbc-8cdb-407a-c238-b6709cf192c3",
        "execution": {
          "iopub.status.busy": "2024-03-28T10:24:04.762412Z",
          "iopub.execute_input": "2024-03-28T10:24:04.762720Z",
          "iopub.status.idle": "2024-03-28T10:24:05.934671Z",
          "shell.execute_reply.started": "2024-03-28T10:24:04.762691Z",
          "shell.execute_reply": "2024-03-28T10:24:05.933513Z"
        },
        "trusted": true
      },
      "execution_count": null,
      "outputs": [
        {
          "name": "stderr",
          "text": "100%|██████████| 79/79 [00:01<00:00, 68.13it/s]",
          "output_type": "stream"
        },
        {
          "name": "stdout",
          "text": "Test Accuracy: 82.57%\n",
          "output_type": "stream"
        },
        {
          "name": "stderr",
          "text": "\n",
          "output_type": "stream"
        }
      ]
    },
    {
      "cell_type": "code",
      "source": [
        "# plot training and validation losses\n",
        "plt.figure(figsize=(10, 5))\n",
        "plt.plot(train_losses, label='Training Loss')\n",
        "plt.plot(val_losses, label='Validation Loss')\n",
        "plt.xlabel('Epochs')\n",
        "plt.ylabel('Loss')\n",
        "plt.title('Training and Validation Losses')\n",
        "plt.legend()\n",
        "plt.show()"
      ],
      "metadata": {
        "id": "s7MRQCJTooPK",
        "colab": {
          "base_uri": "https://localhost:8080/",
          "height": 487
        },
        "outputId": "b5e2fef8-dcbc-4c7b-e680-dae96f467d30",
        "execution": {
          "iopub.status.busy": "2024-03-28T10:24:05.936656Z",
          "iopub.execute_input": "2024-03-28T10:24:05.937640Z",
          "iopub.status.idle": "2024-03-28T10:24:06.293030Z",
          "shell.execute_reply.started": "2024-03-28T10:24:05.937596Z",
          "shell.execute_reply": "2024-03-28T10:24:06.292049Z"
        },
        "trusted": true
      },
      "execution_count": null,
      "outputs": [
        {
          "output_type": "display_data",
          "data": {
            "text/plain": "<Figure size 1000x500 with 1 Axes>",
            "image/png": "[encoded data removed]"
          },
          "metadata": {}
        }
      ]
    },
    {
      "cell_type": "code",
      "source": [
        "# plot validation accuracy\n",
        "plt.figure(figsize=(10, 5))\n",
        "plt.plot(val_accuracy, label='Validation Accuracy')\n",
        "plt.xlabel('Epochs')\n",
        "plt.ylabel('Accuracy')\n",
        "plt.title('Validation Accuracy')\n",
        "plt.legend()\n",
        "plt.show()"
      ],
      "metadata": {
        "id": "VLLkeoY59A5F",
        "colab": {
          "base_uri": "https://localhost:8080/",
          "height": 487
        },
        "outputId": "3c7722c5-55c9-4065-86cb-f7efbcb3248c",
        "execution": {
          "iopub.status.busy": "2024-03-28T10:24:06.294463Z",
          "iopub.execute_input": "2024-03-28T10:24:06.294821Z",
          "iopub.status.idle": "2024-03-28T10:24:06.523511Z",
          "shell.execute_reply.started": "2024-03-28T10:24:06.294790Z",
          "shell.execute_reply": "2024-03-28T10:24:06.522591Z"
        },
        "trusted": true
      },
      "execution_count": null,
      "outputs": [
        {
          "output_type": "display_data",
          "data": {
            "text/plain": "<Figure size 1000x500 with 1 Axes>",
            "image/png": "[encoded data removed]"
          },
          "metadata": {}
        }
      ]
    },
    {
      "cell_type": "markdown",
      "source": [
        "#### 1.2 Incorporate stemming/lemmatization when doing text preprocessing using the NLTK library. What changes do you observe in accuracy ?"
      ],
      "metadata": {
        "id": "tHmA54UjvRh6"
      }
    },
    {
      "cell_type": "code",
      "source": [
        "# import re\n",
        "from nltk.stem import PorterStemmer, WordNetLemmatizer\n",
        "import nltk\n",
        "from nltk.tokenize import RegexpTokenizer\n",
        "def clean(text, tokenizer):\n",
        "  # Perform text preprocessing:\n",
        "  # 1. Removing numbers OR replace them with \"num\" token\n",
        "  # 2. Convert all characters to lowercase.\n",
        "  # 3. Tokenize the sentence into words\n",
        "  # You can use RegexpTokenizer from NLTK.\n",
        "  num_pattern = r'\\b\\d+\\b'\\\n",
        "\n",
        "  text = re.sub(num_pattern, 'num', text)\n",
        "\n",
        "  text = text.lower()\n",
        "\n",
        "  text = tokenizer.tokenize(text)\n",
        "  #stemming\n",
        "  stemmer = PorterStemmer()\n",
        "  stem_words = [stemmer.stem(word) for word in text]\n",
        "\n",
        "  # You will experiment with stemming/lemmatization down the line\n",
        "  # so you can skip that for now\n",
        "\n",
        "  return stem_words\n",
        "tokenizer = RegexpTokenizer(r'\\w+')\n",
        "\n",
        "def get_word2idx(corpus , minlen , maxlen):\n",
        "  idx = 1\n",
        "  word2idx = {}\n",
        "  #word2idx['pad'] = 0\n",
        "  for sentence in tqdm(corpus, total=len(corpus), desc=\"Creating word2idx\"):\n",
        "    # process sentence\n",
        "    sentence = clean(sentence, tokenizer)\n",
        "    words =sentence\n",
        "\n",
        "    # drop sentences greater than maxlen or less than minlen\n",
        "    if(minlen<=len(words) and len(words)<=maxlen):\n",
        "    # for each word in sentence, check for entry in word2idx\n",
        "      for word in words:\n",
        "        if word not in word2idx:\n",
        "          word2idx[word] = idx\n",
        "          idx += 1\n",
        "\n",
        "\n",
        "  return idx, word2idx\n",
        "vocab_size1,word2idx1 = get_word2idx(train_texts,100,500)\n",
        "# Build a Dataset object to store each sentence as a tensor of numbers\n",
        "# along with the label. Make sure to add padding so that the tensor\n",
        "# for each sentence is of the same length. This will allow us to train\n",
        "# the model in batches.\n",
        "\n",
        "class IMDBDataset(Dataset):\n",
        "  def __init__(self, dataset,labels, word2idx, minlen : int = 100, maxlen : int = 500):\n",
        "    self.count = 0 # total sentences you finally pick\n",
        "\n",
        "    # count total number of lines\n",
        "    #len = len(dataset)\n",
        "\n",
        "    input_data = []\n",
        "    target_data = []\n",
        "    corpus = dataset\n",
        "    word2idx['UNK'] = vocab_size1\n",
        "    #for idx, sentence in tqdm(enumerate(corpus), total=len, desc=f\"Transforming input text [{split}]\"):\n",
        "    for sentence , label in tqdm(zip(dataset,labels),total=len(dataset), desc=f\"Transforming input text\"):\n",
        "      # process sentence\n",
        "      sentence = clean(sentence , tokenizer)\n",
        "      # drop sentences greater than maxlen or less than minlen\n",
        "      words = sentence\n",
        "      if(len(words)<minlen or maxlen<len(words)):continue\n",
        "\n",
        "      # replace words with their index\n",
        "      indices= [word2idx.get(word, vocab_size1) for word in words]\n",
        "\n",
        "      #pad_sequence doesnt take in list so for the pad_sequence we need to convert the input list to tensor form then it will accept it\n",
        "      input_data.append(torch.tensor(indices))\n",
        "\n",
        "      target_data.append(label)\n",
        "\n",
        "      self.count += 1\n",
        "\n",
        "    # pad the sentences upto maxlen\n",
        "    self.inputs = pad_sequence(input_data, batch_first = True,padding_value=0)\n",
        "    #self.inputs = torch.tensor(input_data)\n",
        "    self.targets = torch.tensor(target_data)\n",
        "\n",
        "  def __len__(self) -> int:\n",
        "    return self.count\n",
        "\n",
        "  def __getitem__(self, index : int):\n",
        "    return self.inputs[index], self.targets[index]\n",
        "# create the train dataset using the word2idx dictionary built using the train set\n",
        "train_ds = IMDBDataset(train_texts , train_labels , word2idx1,minlen = 100, maxlen = 500)\n",
        "# create the validation and test dataset using the word2idx dictionary built using the train set\n",
        "val_ds = IMDBDataset(val_texts , val_labels , word2idx1,minlen = 100, maxlen = 500)\n",
        "test_ds = IMDBDataset(test_texts , test_labels , word2idx1,minlen = 100, maxlen = 500)\n"
      ],
      "metadata": {
        "id": "MMW-AMrYvRxO",
        "colab": {
          "base_uri": "https://localhost:8080/"
        },
        "outputId": "0e5598a9-56c0-4b4d-991b-770519c989dd",
        "execution": {
          "iopub.status.busy": "2024-03-28T10:24:06.524929Z",
          "iopub.execute_input": "2024-03-28T10:24:06.525522Z",
          "iopub.status.idle": "2024-03-28T10:31:56.651850Z",
          "shell.execute_reply.started": "2024-03-28T10:24:06.525488Z",
          "shell.execute_reply": "2024-03-28T10:31:56.650894Z"
        },
        "trusted": true
      },
      "execution_count": null,
      "outputs": [
        {
          "name": "stderr",
          "text": "Creating word2idx: 100%|██████████| 20000/20000 [02:13<00:00, 149.91it/s]\nTransforming input text: 100%|██████████| 20000/20000 [02:16<00:00, 146.90it/s]\nTransforming input text: 100%|██████████| 5000/5000 [00:34<00:00, 146.12it/s]\nTransforming input text: 100%|██████████| 25000/25000 [02:45<00:00, 150.62it/s]\n",
          "output_type": "stream"
        }
      ]
    },
    {
      "cell_type": "code",
      "source": [
        "# create dataloaders using the dataset\n",
        "params = {\n",
        "    'batch_size':256,\n",
        "    'shuffle': True,\n",
        "    'num_workers': 2\n",
        "}\n",
        "\n",
        "train_dataloader = DataLoader(train_ds, **params)\n",
        "val_dataloader = DataLoader(val_ds, **params)\n",
        "test_dataloader = DataLoader(test_ds, **params)\n",
        "\n",
        "hidden_size = 256\n",
        "embedding_dim = 128\n",
        "learning_rate = 1e-3\n",
        "epochs = 5\n",
        "num_classes = len(set(train_labels))\n",
        "vocab_size = len(word2idx)+1\n",
        "\n",
        "# create the model\n",
        "model1 = RNNModel(vocab_size, hidden_size, embedding_dim,3, num_classes).to(device)\n"
      ],
      "metadata": {
        "id": "i0Hpf8Afs6Qn",
        "execution": {
          "iopub.status.busy": "2024-03-28T10:31:56.653267Z",
          "iopub.execute_input": "2024-03-28T10:31:56.653654Z",
          "iopub.status.idle": "2024-03-28T10:31:56.860299Z",
          "shell.execute_reply.started": "2024-03-28T10:31:56.653620Z",
          "shell.execute_reply": "2024-03-28T10:31:56.859482Z"
        },
        "trusted": true
      },
      "execution_count": null,
      "outputs": []
    },
    {
      "cell_type": "code",
      "source": [
        "train_losses, val_losses, val_accuracy = train_model(model1, train_dataloader, val_dataloader)"
      ],
      "metadata": {
        "colab": {
          "base_uri": "https://localhost:8080/"
        },
        "id": "tVYj-BqstXjg",
        "outputId": "05123d80-22e9-4f26-f9b6-88c23953aceb",
        "execution": {
          "iopub.status.busy": "2024-03-28T10:31:56.861589Z",
          "iopub.execute_input": "2024-03-28T10:31:56.861951Z",
          "iopub.status.idle": "2024-03-28T10:32:32.534075Z",
          "shell.execute_reply.started": "2024-03-28T10:31:56.861917Z",
          "shell.execute_reply": "2024-03-28T10:32:32.532941Z"
        },
        "trusted": true
      },
      "execution_count": null,
      "outputs": [
        {
          "name": "stderr",
          "text": "Training: 100%|██████████| 63/63 [00:03<00:00, 19.29it/s]\nValidation: 100%|██████████| 16/16 [00:00<00:00, 52.13it/s]\n",
          "output_type": "stream"
        },
        {
          "name": "stdout",
          "text": "Epoch 1/10: Train Loss: 0.6942, Val Loss: 0.6884, Val Accuracy: 54.86%\n",
          "output_type": "stream"
        },
        {
          "name": "stderr",
          "text": "Training: 100%|██████████| 63/63 [00:03<00:00, 19.78it/s]\nValidation: 100%|██████████| 16/16 [00:00<00:00, 51.83it/s]\n",
          "output_type": "stream"
        },
        {
          "name": "stdout",
          "text": "Epoch 2/10: Train Loss: 0.6531, Val Loss: 0.5630, Val Accuracy: 72.47%\n",
          "output_type": "stream"
        },
        {
          "name": "stderr",
          "text": "Training: 100%|██████████| 63/63 [00:03<00:00, 19.68it/s]\nValidation: 100%|██████████| 16/16 [00:00<00:00, 52.18it/s]\n",
          "output_type": "stream"
        },
        {
          "name": "stdout",
          "text": "Epoch 3/10: Train Loss: 0.4887, Val Loss: 0.4398, Val Accuracy: 79.75%\n",
          "output_type": "stream"
        },
        {
          "name": "stderr",
          "text": "Training: 100%|██████████| 63/63 [00:03<00:00, 19.60it/s]\nValidation: 100%|██████████| 16/16 [00:00<00:00, 52.34it/s]\n",
          "output_type": "stream"
        },
        {
          "name": "stdout",
          "text": "Epoch 4/10: Train Loss: 0.3828, Val Loss: 0.4095, Val Accuracy: 82.14%\n",
          "output_type": "stream"
        },
        {
          "name": "stderr",
          "text": "Training: 100%|██████████| 63/63 [00:03<00:00, 19.30it/s]\nValidation: 100%|██████████| 16/16 [00:00<00:00, 46.79it/s]\n",
          "output_type": "stream"
        },
        {
          "name": "stdout",
          "text": "Epoch 5/10: Train Loss: 0.2990, Val Loss: 0.3740, Val Accuracy: 83.69%\n",
          "output_type": "stream"
        },
        {
          "name": "stderr",
          "text": "Training: 100%|██████████| 63/63 [00:03<00:00, 19.28it/s]\nValidation: 100%|██████████| 16/16 [00:00<00:00, 49.44it/s]\n",
          "output_type": "stream"
        },
        {
          "name": "stdout",
          "text": "Epoch 6/10: Train Loss: 0.2515, Val Loss: 0.3805, Val Accuracy: 85.29%\n",
          "output_type": "stream"
        },
        {
          "name": "stderr",
          "text": "Training: 100%|██████████| 63/63 [00:03<00:00, 19.28it/s]\nValidation: 100%|██████████| 16/16 [00:00<00:00, 47.46it/s]\n",
          "output_type": "stream"
        },
        {
          "name": "stdout",
          "text": "Epoch 7/10: Train Loss: 0.1984, Val Loss: 0.4376, Val Accuracy: 83.19%\n",
          "output_type": "stream"
        },
        {
          "name": "stderr",
          "text": "Training: 100%|██████████| 63/63 [00:03<00:00, 19.31it/s]\nValidation: 100%|██████████| 16/16 [00:00<00:00, 50.47it/s]\n",
          "output_type": "stream"
        },
        {
          "name": "stdout",
          "text": "Epoch 8/10: Train Loss: 0.1697, Val Loss: 0.4101, Val Accuracy: 83.54%\n",
          "output_type": "stream"
        },
        {
          "name": "stderr",
          "text": "Training: 100%|██████████| 63/63 [00:03<00:00, 19.35it/s]\nValidation: 100%|██████████| 16/16 [00:00<00:00, 50.93it/s]\n",
          "output_type": "stream"
        },
        {
          "name": "stdout",
          "text": "Epoch 9/10: Train Loss: 0.1328, Val Loss: 0.4180, Val Accuracy: 85.89%\n",
          "output_type": "stream"
        },
        {
          "name": "stderr",
          "text": "Training: 100%|██████████| 63/63 [00:03<00:00, 19.50it/s]\nValidation: 100%|██████████| 16/16 [00:00<00:00, 51.92it/s]\n",
          "output_type": "stream"
        },
        {
          "name": "stdout",
          "text": "Epoch 10/10: Train Loss: 0.1195, Val Loss: 0.4908, Val Accuracy: 83.79%\n",
          "output_type": "stream"
        }
      ]
    },
    {
      "cell_type": "markdown",
      "source": [
        "# Observations:\n",
        "* It is giving better accuracies after doing stemming."
      ],
      "metadata": {
        "id": "6R5csU-2voAt"
      }
    },
    {
      "cell_type": "markdown",
      "source": [
        "#### 1.3 In the Model class, experiment with only picking the last output and mean of all outputs in the RNN layer. What changes do you observe ?"
      ],
      "metadata": {
        "id": "23hqq3w8o2q3"
      }
    },
    {
      "cell_type": "code",
      "source": [
        "class RNNMeanModel(nn.Module):\n",
        "    def __init__(self, vocab_size, embedding_dim, hidden_size, num_layers, num_classes, dropout=0.5):\n",
        "        super(RNNMeanModel, self).__init__()\n",
        "        self.embedding = nn.Embedding(vocab_size, embedding_dim)\n",
        "        self.rnn = nn.RNN(embedding_dim, hidden_size, num_layers=num_layers, batch_first=True, dropout=dropout)\n",
        "        self.fc1 = nn.Linear(hidden_size, hidden_size // 2)\n",
        "        self.fc2 = nn.Linear(hidden_size // 2, num_classes)\n",
        "        self.dropout = nn.Dropout(dropout)\n",
        "\n",
        "    def forward(self, X):\n",
        "        #We pass the input tensor of indices to Embedding to get a dense vector embedding of the dimensions embed_size\n",
        "        embedded = self.embedding(X)\n",
        "        output, _ = self.rnn(embedded)\n",
        "        mean_out = torch.mean(output, dim=1)\n",
        "        hidden = F.relu(self.fc1(mean_out))\n",
        "        logits = self.fc2(hidden)\n",
        "        return logits"
      ],
      "metadata": {
        "id": "-oUlRgmZAm-S",
        "execution": {
          "iopub.status.busy": "2024-03-28T10:45:09.655786Z",
          "iopub.execute_input": "2024-03-28T10:45:09.656210Z",
          "iopub.status.idle": "2024-03-28T10:45:09.665641Z",
          "shell.execute_reply.started": "2024-03-28T10:45:09.656175Z",
          "shell.execute_reply": "2024-03-28T10:45:09.664636Z"
        },
        "trusted": true
      },
      "execution_count": null,
      "outputs": []
    },
    {
      "cell_type": "code",
      "source": [
        "mean_model = RNNMeanModel(vocab_size,hidden_size,embedding_dim,3,num_classes).to(device)\n",
        "train_losses, val_losses, val_accuracy = train_model(mean_model, train_dataloader, val_dataloader)"
      ],
      "metadata": {
        "execution": {
          "iopub.status.busy": "2024-03-28T10:45:12.532376Z",
          "iopub.execute_input": "2024-03-28T10:45:12.532767Z",
          "iopub.status.idle": "2024-03-28T10:45:48.639980Z",
          "shell.execute_reply.started": "2024-03-28T10:45:12.532736Z",
          "shell.execute_reply": "2024-03-28T10:45:48.638885Z"
        },
        "trusted": true,
        "id": "1W4PAzZKvoAv",
        "outputId": "0f062687-f868-42a9-c6d2-0bb1ac2a627f"
      },
      "execution_count": null,
      "outputs": [
        {
          "name": "stderr",
          "text": "Training: 100%|██████████| 63/63 [00:03<00:00, 18.85it/s]\nValidation: 100%|██████████| 16/16 [00:00<00:00, 49.70it/s]\n",
          "output_type": "stream"
        },
        {
          "name": "stdout",
          "text": "Epoch 1/10: Train Loss: 0.6879, Val Loss: 0.6669, Val Accuracy: 62.02%\n",
          "output_type": "stream"
        },
        {
          "name": "stderr",
          "text": "Training: 100%|██████████| 63/63 [00:03<00:00, 19.35it/s]\nValidation: 100%|██████████| 16/16 [00:00<00:00, 48.25it/s]\n",
          "output_type": "stream"
        },
        {
          "name": "stdout",
          "text": "Epoch 2/10: Train Loss: 0.5560, Val Loss: 0.4584, Val Accuracy: 79.28%\n",
          "output_type": "stream"
        },
        {
          "name": "stderr",
          "text": "Training: 100%|██████████| 63/63 [00:03<00:00, 19.36it/s]\nValidation: 100%|██████████| 16/16 [00:00<00:00, 50.38it/s]\n",
          "output_type": "stream"
        },
        {
          "name": "stdout",
          "text": "Epoch 3/10: Train Loss: 0.3858, Val Loss: 0.3923, Val Accuracy: 82.72%\n",
          "output_type": "stream"
        },
        {
          "name": "stderr",
          "text": "Training: 100%|██████████| 63/63 [00:03<00:00, 19.30it/s]\nValidation: 100%|██████████| 16/16 [00:00<00:00, 45.23it/s]\n",
          "output_type": "stream"
        },
        {
          "name": "stdout",
          "text": "Epoch 4/10: Train Loss: 0.2988, Val Loss: 0.3921, Val Accuracy: 83.34%\n",
          "output_type": "stream"
        },
        {
          "name": "stderr",
          "text": "Training: 100%|██████████| 63/63 [00:03<00:00, 19.34it/s]\nValidation: 100%|██████████| 16/16 [00:00<00:00, 49.96it/s]\n",
          "output_type": "stream"
        },
        {
          "name": "stdout",
          "text": "Epoch 5/10: Train Loss: 0.2295, Val Loss: 0.3767, Val Accuracy: 85.04%\n",
          "output_type": "stream"
        },
        {
          "name": "stderr",
          "text": "Training: 100%|██████████| 63/63 [00:03<00:00, 19.31it/s]\nValidation: 100%|██████████| 16/16 [00:00<00:00, 50.40it/s]\n",
          "output_type": "stream"
        },
        {
          "name": "stdout",
          "text": "Epoch 6/10: Train Loss: 0.1784, Val Loss: 0.3879, Val Accuracy: 84.74%\n",
          "output_type": "stream"
        },
        {
          "name": "stderr",
          "text": "Training: 100%|██████████| 63/63 [00:03<00:00, 19.33it/s]\nValidation: 100%|██████████| 16/16 [00:00<00:00, 47.01it/s]\n",
          "output_type": "stream"
        },
        {
          "name": "stdout",
          "text": "Epoch 7/10: Train Loss: 0.1384, Val Loss: 0.3985, Val Accuracy: 85.66%\n",
          "output_type": "stream"
        },
        {
          "name": "stderr",
          "text": "Training: 100%|██████████| 63/63 [00:03<00:00, 19.41it/s]\nValidation: 100%|██████████| 16/16 [00:00<00:00, 49.04it/s]\n",
          "output_type": "stream"
        },
        {
          "name": "stdout",
          "text": "Epoch 8/10: Train Loss: 0.3164, Val Loss: 0.4071, Val Accuracy: 84.86%\n",
          "output_type": "stream"
        },
        {
          "name": "stderr",
          "text": "Training: 100%|██████████| 63/63 [00:03<00:00, 19.56it/s]\nValidation: 100%|██████████| 16/16 [00:00<00:00, 50.67it/s]\n",
          "output_type": "stream"
        },
        {
          "name": "stdout",
          "text": "Epoch 9/10: Train Loss: 0.1383, Val Loss: 0.3855, Val Accuracy: 86.23%\n",
          "output_type": "stream"
        },
        {
          "name": "stderr",
          "text": "Training: 100%|██████████| 63/63 [00:03<00:00, 19.54it/s]\nValidation: 100%|██████████| 16/16 [00:00<00:00, 51.43it/s]",
          "output_type": "stream"
        },
        {
          "name": "stdout",
          "text": "Epoch 10/10: Train Loss: 0.0937, Val Loss: 0.4325, Val Accuracy: 85.94%\n",
          "output_type": "stream"
        },
        {
          "name": "stderr",
          "text": "\n",
          "output_type": "stream"
        }
      ]
    },
    {
      "cell_type": "markdown",
      "source": [
        "# Observations:\n",
        "* It is giving better accuracies when we took the mean of all the layers instead of last layer."
      ],
      "metadata": {
        "id": "5t63B6nHvoAw"
      }
    },
    {
      "cell_type": "markdown",
      "source": [
        "### 2. Hyperparameter Tuning\n",
        "#### 2.1 Starting with the best configurations based on the above experiments, experiment with 5 different hyperparameter configurations. You can change the size of embedding layer, hidden state, batch in the dataloader.\n"
      ],
      "metadata": {
        "id": "dw2dyrnkrnxa"
      }
    },
    {
      "cell_type": "code",
      "source": [
        "hyperparameters = [\n",
        "    {'embedding_dim': 64, 'hidden_size': 64, 'batch_size': 256},\n",
        "    {'embedding_dim': 128, 'hidden_size': 128, 'batch_size': 128},\n",
        "    {'embedding_dim': 256, 'hidden_size': 256, 'batch_size': 128},\n",
        "    {'embedding_dim': 128, 'hidden_size':256, 'batch_size': 256},\n",
        "    {'embedding_dim': 64, 'hidden_size': 128, 'batch_size': 64}\n",
        "]\n",
        "results = []\n",
        "\n",
        "for params in hyperparameters:\n",
        "    embedding_dim = params['embedding_dim']\n",
        "    hidden_size = params['hidden_size']\n",
        "    batch_size = params['batch_size']\n",
        "\n",
        "    train_dataloader = DataLoader(train_ds, batch_size=batch_size, shuffle=True,num_workers =2)\n",
        "    val_dataloader = DataLoader(val_ds, batch_size=batch_size,shuffle =True,num_workers = 2)\n",
        "\n",
        "    learning_rate = 1e-3\n",
        "    epochs = 10\n",
        "    num_classes = 2\n",
        "    vocab_size = len(word2idx1)+1\n",
        "\n",
        "    model = RNNModel(vocab_size, hidden_size, embedding_dim,3, num_classes).to(device)\n",
        "\n",
        "    train_losses, val_losses, val_accuracy = train_model(model, train_dataloader, val_dataloader , epochs)\n",
        "\n",
        "    results.append({\n",
        "        'config': params,\n",
        "        'train_losses': train_losses,\n",
        "        'val_losses': val_losses,\n",
        "        'val_accuracy': val_accuracy\n",
        "    })\n",
        "\n",
        "for i, result in enumerate(results):\n",
        "    config = result['config']\n",
        "    print(f\"\\nConfiguration {i + 1}:\")\n",
        "    print(f\"Embedding Dimension: {config['embedding_dim']}, Hidden Size: {config['hidden_size']}, Batch Size: {config['batch_size']},\")\n",
        "    print(\"validation_accuracy\",result['val_accuracy'])\n",
        "\n"
      ],
      "metadata": {
        "id": "M0EuYk3Krodp",
        "colab": {
          "base_uri": "https://localhost:8080/"
        },
        "outputId": "89dc7915-44b5-498d-fa5e-0646b10f9805",
        "execution": {
          "iopub.status.busy": "2024-03-28T11:02:45.407273Z",
          "iopub.execute_input": "2024-03-28T11:02:45.407680Z",
          "iopub.status.idle": "2024-03-28T11:06:06.464302Z",
          "shell.execute_reply.started": "2024-03-28T11:02:45.407645Z",
          "shell.execute_reply": "2024-03-28T11:06:06.463099Z"
        },
        "trusted": true
      },
      "execution_count": null,
      "outputs": [
        {
          "name": "stderr",
          "text": "Training: 100%|██████████| 63/63 [00:01<00:00, 50.37it/s]\nValidation: 100%|██████████| 16/16 [00:00<00:00, 82.28it/s]\n",
          "output_type": "stream"
        },
        {
          "name": "stdout",
          "text": "Epoch 1/10: Train Loss: 758.4121, Val Loss: 0.6958, Val Accuracy: 48.43%\n",
          "output_type": "stream"
        },
        {
          "name": "stderr",
          "text": "Training: 100%|██████████| 63/63 [00:01<00:00, 53.87it/s]\nValidation: 100%|██████████| 16/16 [00:00<00:00, 86.00it/s]\n",
          "output_type": "stream"
        },
        {
          "name": "stdout",
          "text": "Epoch 2/10: Train Loss: 0.7206, Val Loss: 0.9564, Val Accuracy: 48.43%\n",
          "output_type": "stream"
        },
        {
          "name": "stderr",
          "text": "Training: 100%|██████████| 63/63 [00:01<00:00, 54.67it/s]\nValidation: 100%|██████████| 16/16 [00:00<00:00, 83.40it/s]\n",
          "output_type": "stream"
        },
        {
          "name": "stdout",
          "text": "Epoch 3/10: Train Loss: 0.7566, Val Loss: 0.7847, Val Accuracy: 51.57%\n",
          "output_type": "stream"
        },
        {
          "name": "stderr",
          "text": "Training: 100%|██████████| 63/63 [00:01<00:00, 54.49it/s]\nValidation: 100%|██████████| 16/16 [00:00<00:00, 83.29it/s]\n",
          "output_type": "stream"
        },
        {
          "name": "stdout",
          "text": "Epoch 4/10: Train Loss: 0.8328, Val Loss: 0.9006, Val Accuracy: 48.43%\n",
          "output_type": "stream"
        },
        {
          "name": "stderr",
          "text": "Training: 100%|██████████| 63/63 [00:01<00:00, 54.33it/s]\nValidation: 100%|██████████| 16/16 [00:00<00:00, 86.56it/s]\n",
          "output_type": "stream"
        },
        {
          "name": "stdout",
          "text": "Epoch 5/10: Train Loss: 0.7553, Val Loss: 0.7917, Val Accuracy: 48.43%\n",
          "output_type": "stream"
        },
        {
          "name": "stderr",
          "text": "Training: 100%|██████████| 63/63 [00:01<00:00, 54.65it/s]\nValidation: 100%|██████████| 16/16 [00:00<00:00, 85.67it/s]\n",
          "output_type": "stream"
        },
        {
          "name": "stdout",
          "text": "Epoch 6/10: Train Loss: 0.7507, Val Loss: 0.7192, Val Accuracy: 51.57%\n",
          "output_type": "stream"
        },
        {
          "name": "stderr",
          "text": "Training: 100%|██████████| 63/63 [00:01<00:00, 52.79it/s]\nValidation: 100%|██████████| 16/16 [00:00<00:00, 76.50it/s]\n",
          "output_type": "stream"
        },
        {
          "name": "stdout",
          "text": "Epoch 7/10: Train Loss: 0.8083, Val Loss: 0.9573, Val Accuracy: 51.57%\n",
          "output_type": "stream"
        },
        {
          "name": "stderr",
          "text": "Training: 100%|██████████| 63/63 [00:01<00:00, 55.03it/s]\nValidation: 100%|██████████| 16/16 [00:00<00:00, 86.20it/s]\n",
          "output_type": "stream"
        },
        {
          "name": "stdout",
          "text": "Epoch 8/10: Train Loss: 0.8348, Val Loss: 0.8046, Val Accuracy: 48.43%\n",
          "output_type": "stream"
        },
        {
          "name": "stderr",
          "text": "Training: 100%|██████████| 63/63 [00:01<00:00, 54.35it/s]\nValidation: 100%|██████████| 16/16 [00:00<00:00, 88.64it/s]\n",
          "output_type": "stream"
        },
        {
          "name": "stdout",
          "text": "Epoch 9/10: Train Loss: 0.7489, Val Loss: 0.7043, Val Accuracy: 51.57%\n",
          "output_type": "stream"
        },
        {
          "name": "stderr",
          "text": "Training: 100%|██████████| 63/63 [00:01<00:00, 55.18it/s]\nValidation: 100%|██████████| 16/16 [00:00<00:00, 86.59it/s]\n",
          "output_type": "stream"
        },
        {
          "name": "stdout",
          "text": "Epoch 10/10: Train Loss: 0.7522, Val Loss: 0.7129, Val Accuracy: 48.43%\n",
          "output_type": "stream"
        },
        {
          "name": "stderr",
          "text": "Training: 100%|██████████| 126/126 [00:02<00:00, 44.84it/s]\nValidation: 100%|██████████| 32/32 [00:00<00:00, 96.99it/s]\n",
          "output_type": "stream"
        },
        {
          "name": "stdout",
          "text": "Epoch 1/10: Train Loss: 1034.5639, Val Loss: 0.7035, Val Accuracy: 48.43%\n",
          "output_type": "stream"
        },
        {
          "name": "stderr",
          "text": "Training: 100%|██████████| 126/126 [00:02<00:00, 44.58it/s]\nValidation: 100%|██████████| 32/32 [00:00<00:00, 97.63it/s] \n",
          "output_type": "stream"
        },
        {
          "name": "stdout",
          "text": "Epoch 2/10: Train Loss: 0.7510, Val Loss: 0.7089, Val Accuracy: 48.43%\n",
          "output_type": "stream"
        },
        {
          "name": "stderr",
          "text": "Training: 100%|██████████| 126/126 [00:02<00:00, 44.98it/s]\nValidation: 100%|██████████| 32/32 [00:00<00:00, 98.48it/s] \n",
          "output_type": "stream"
        },
        {
          "name": "stdout",
          "text": "Epoch 3/10: Train Loss: 0.7863, Val Loss: 0.7001, Val Accuracy: 48.43%\n",
          "output_type": "stream"
        },
        {
          "name": "stderr",
          "text": "Training: 100%|██████████| 126/126 [00:02<00:00, 45.47it/s]\nValidation: 100%|██████████| 32/32 [00:00<00:00, 100.04it/s]\n",
          "output_type": "stream"
        },
        {
          "name": "stdout",
          "text": "Epoch 4/10: Train Loss: 0.7727, Val Loss: 0.7558, Val Accuracy: 48.43%\n",
          "output_type": "stream"
        },
        {
          "name": "stderr",
          "text": "Training: 100%|██████████| 126/126 [00:02<00:00, 45.40it/s]\nValidation: 100%|██████████| 32/32 [00:00<00:00, 98.11it/s] \n",
          "output_type": "stream"
        },
        {
          "name": "stdout",
          "text": "Epoch 5/10: Train Loss: 0.8422, Val Loss: 0.7195, Val Accuracy: 48.43%\n",
          "output_type": "stream"
        },
        {
          "name": "stderr",
          "text": "Training: 100%|██████████| 126/126 [00:02<00:00, 45.18it/s]\nValidation: 100%|██████████| 32/32 [00:00<00:00, 98.92it/s] \n",
          "output_type": "stream"
        },
        {
          "name": "stdout",
          "text": "Epoch 6/10: Train Loss: 0.8845, Val Loss: 0.7068, Val Accuracy: 51.57%\n",
          "output_type": "stream"
        },
        {
          "name": "stderr",
          "text": "Training: 100%|██████████| 126/126 [00:02<00:00, 45.54it/s]\nValidation: 100%|██████████| 32/32 [00:00<00:00, 99.75it/s] \n",
          "output_type": "stream"
        },
        {
          "name": "stdout",
          "text": "Epoch 7/10: Train Loss: 0.7803, Val Loss: 0.8940, Val Accuracy: 48.43%\n",
          "output_type": "stream"
        },
        {
          "name": "stderr",
          "text": "Training: 100%|██████████| 126/126 [00:02<00:00, 45.45it/s]\nValidation: 100%|██████████| 32/32 [00:00<00:00, 99.07it/s] \n",
          "output_type": "stream"
        },
        {
          "name": "stdout",
          "text": "Epoch 8/10: Train Loss: 0.8674, Val Loss: 0.8016, Val Accuracy: 48.43%\n",
          "output_type": "stream"
        },
        {
          "name": "stderr",
          "text": "Training: 100%|██████████| 126/126 [00:02<00:00, 44.74it/s]\nValidation: 100%|██████████| 32/32 [00:00<00:00, 94.20it/s] \n",
          "output_type": "stream"
        },
        {
          "name": "stdout",
          "text": "Epoch 9/10: Train Loss: 0.8068, Val Loss: 0.6929, Val Accuracy: 51.57%\n",
          "output_type": "stream"
        },
        {
          "name": "stderr",
          "text": "Training: 100%|██████████| 126/126 [00:02<00:00, 45.61it/s]\nValidation: 100%|██████████| 32/32 [00:00<00:00, 101.78it/s]\n",
          "output_type": "stream"
        },
        {
          "name": "stdout",
          "text": "Epoch 10/10: Train Loss: 0.7543, Val Loss: 0.8350, Val Accuracy: 51.57%\n",
          "output_type": "stream"
        },
        {
          "name": "stderr",
          "text": "Training: 100%|██████████| 126/126 [00:08<00:00, 14.40it/s]\nValidation: 100%|██████████| 32/32 [00:00<00:00, 36.39it/s]\n",
          "output_type": "stream"
        },
        {
          "name": "stdout",
          "text": "Epoch 1/10: Train Loss: 7745.8063, Val Loss: 0.7576, Val Accuracy: 48.43%\n",
          "output_type": "stream"
        },
        {
          "name": "stderr",
          "text": "Training: 100%|██████████| 126/126 [00:08<00:00, 14.47it/s]\nValidation: 100%|██████████| 32/32 [00:00<00:00, 35.89it/s]\n",
          "output_type": "stream"
        },
        {
          "name": "stdout",
          "text": "Epoch 2/10: Train Loss: 0.7895, Val Loss: 0.8158, Val Accuracy: 51.57%\n",
          "output_type": "stream"
        },
        {
          "name": "stderr",
          "text": "Training: 100%|██████████| 126/126 [00:08<00:00, 14.47it/s]\nValidation: 100%|██████████| 32/32 [00:00<00:00, 36.29it/s]\n",
          "output_type": "stream"
        },
        {
          "name": "stdout",
          "text": "Epoch 3/10: Train Loss: 0.7879, Val Loss: 0.7812, Val Accuracy: 51.57%\n",
          "output_type": "stream"
        },
        {
          "name": "stderr",
          "text": "Training: 100%|██████████| 126/126 [00:08<00:00, 14.45it/s]\nValidation: 100%|██████████| 32/32 [00:00<00:00, 35.76it/s]\n",
          "output_type": "stream"
        },
        {
          "name": "stdout",
          "text": "Epoch 4/10: Train Loss: 0.7844, Val Loss: 0.7536, Val Accuracy: 51.57%\n",
          "output_type": "stream"
        },
        {
          "name": "stderr",
          "text": "Training: 100%|██████████| 126/126 [00:08<00:00, 14.43it/s]\nValidation: 100%|██████████| 32/32 [00:00<00:00, 35.50it/s]\n",
          "output_type": "stream"
        },
        {
          "name": "stdout",
          "text": "Epoch 5/10: Train Loss: 0.8590, Val Loss: 0.7710, Val Accuracy: 51.57%\n",
          "output_type": "stream"
        },
        {
          "name": "stderr",
          "text": "Training: 100%|██████████| 126/126 [00:08<00:00, 14.36it/s]\nValidation: 100%|██████████| 32/32 [00:00<00:00, 35.40it/s]\n",
          "output_type": "stream"
        },
        {
          "name": "stdout",
          "text": "Epoch 6/10: Train Loss: 0.8502, Val Loss: 0.6959, Val Accuracy: 48.43%\n",
          "output_type": "stream"
        },
        {
          "name": "stderr",
          "text": "Training: 100%|██████████| 126/126 [00:08<00:00, 14.33it/s]\nValidation: 100%|██████████| 32/32 [00:00<00:00, 35.84it/s]\n",
          "output_type": "stream"
        },
        {
          "name": "stdout",
          "text": "Epoch 7/10: Train Loss: 0.7892, Val Loss: 0.7246, Val Accuracy: 48.43%\n",
          "output_type": "stream"
        },
        {
          "name": "stderr",
          "text": "Training: 100%|██████████| 126/126 [00:08<00:00, 14.37it/s]\nValidation: 100%|██████████| 32/32 [00:00<00:00, 35.81it/s]\n",
          "output_type": "stream"
        },
        {
          "name": "stdout",
          "text": "Epoch 8/10: Train Loss: 0.8176, Val Loss: 0.9081, Val Accuracy: 51.57%\n",
          "output_type": "stream"
        },
        {
          "name": "stderr",
          "text": "Training: 100%|██████████| 126/126 [00:08<00:00, 14.39it/s]\nValidation: 100%|██████████| 32/32 [00:00<00:00, 36.26it/s]\n",
          "output_type": "stream"
        },
        {
          "name": "stdout",
          "text": "Epoch 9/10: Train Loss: 0.8377, Val Loss: 0.9632, Val Accuracy: 48.43%\n",
          "output_type": "stream"
        },
        {
          "name": "stderr",
          "text": "Training: 100%|██████████| 126/126 [00:08<00:00, 14.39it/s]\nValidation: 100%|██████████| 32/32 [00:00<00:00, 35.74it/s]\n",
          "output_type": "stream"
        },
        {
          "name": "stdout",
          "text": "Epoch 10/10: Train Loss: 0.8107, Val Loss: 0.7620, Val Accuracy: 51.57%\n",
          "output_type": "stream"
        },
        {
          "name": "stderr",
          "text": "Training: 100%|██████████| 63/63 [00:02<00:00, 22.30it/s]\nValidation: 100%|██████████| 16/16 [00:00<00:00, 51.92it/s]\n",
          "output_type": "stream"
        },
        {
          "name": "stdout",
          "text": "Epoch 1/10: Train Loss: 5042.9983, Val Loss: 0.8562, Val Accuracy: 48.43%\n",
          "output_type": "stream"
        },
        {
          "name": "stderr",
          "text": "Training: 100%|██████████| 63/63 [00:02<00:00, 22.32it/s]\nValidation: 100%|██████████| 16/16 [00:00<00:00, 53.02it/s]\n",
          "output_type": "stream"
        },
        {
          "name": "stdout",
          "text": "Epoch 2/10: Train Loss: 0.7745, Val Loss: 0.7435, Val Accuracy: 51.57%\n",
          "output_type": "stream"
        },
        {
          "name": "stderr",
          "text": "Training: 100%|██████████| 63/63 [00:02<00:00, 22.41it/s]\nValidation: 100%|██████████| 16/16 [00:00<00:00, 51.65it/s]\n",
          "output_type": "stream"
        },
        {
          "name": "stdout",
          "text": "Epoch 3/10: Train Loss: 0.7093, Val Loss: 0.6932, Val Accuracy: 48.43%\n",
          "output_type": "stream"
        },
        {
          "name": "stderr",
          "text": "Training: 100%|██████████| 63/63 [00:02<00:00, 22.41it/s]\nValidation: 100%|██████████| 16/16 [00:00<00:00, 51.14it/s]\n",
          "output_type": "stream"
        },
        {
          "name": "stdout",
          "text": "Epoch 4/10: Train Loss: 0.7257, Val Loss: 0.7344, Val Accuracy: 48.43%\n",
          "output_type": "stream"
        },
        {
          "name": "stderr",
          "text": "Training: 100%|██████████| 63/63 [00:02<00:00, 22.30it/s]\nValidation: 100%|██████████| 16/16 [00:00<00:00, 51.17it/s]\n",
          "output_type": "stream"
        },
        {
          "name": "stdout",
          "text": "Epoch 5/10: Train Loss: 0.7342, Val Loss: 0.8055, Val Accuracy: 51.57%\n",
          "output_type": "stream"
        },
        {
          "name": "stderr",
          "text": "Training: 100%|██████████| 63/63 [00:02<00:00, 22.36it/s]\nValidation: 100%|██████████| 16/16 [00:00<00:00, 53.61it/s]\n",
          "output_type": "stream"
        },
        {
          "name": "stdout",
          "text": "Epoch 6/10: Train Loss: 0.7540, Val Loss: 0.6927, Val Accuracy: 51.57%\n",
          "output_type": "stream"
        },
        {
          "name": "stderr",
          "text": "Training: 100%|██████████| 63/63 [00:02<00:00, 22.33it/s]\nValidation: 100%|██████████| 16/16 [00:00<00:00, 51.22it/s]\n",
          "output_type": "stream"
        },
        {
          "name": "stdout",
          "text": "Epoch 7/10: Train Loss: 0.7383, Val Loss: 0.7902, Val Accuracy: 51.57%\n",
          "output_type": "stream"
        },
        {
          "name": "stderr",
          "text": "Training: 100%|██████████| 63/63 [00:02<00:00, 22.32it/s]\nValidation: 100%|██████████| 16/16 [00:00<00:00, 52.29it/s]\n",
          "output_type": "stream"
        },
        {
          "name": "stdout",
          "text": "Epoch 8/10: Train Loss: 0.7408, Val Loss: 0.9000, Val Accuracy: 48.43%\n",
          "output_type": "stream"
        },
        {
          "name": "stderr",
          "text": "Training: 100%|██████████| 63/63 [00:02<00:00, 22.19it/s]\nValidation: 100%|██████████| 16/16 [00:00<00:00, 51.53it/s]\n",
          "output_type": "stream"
        },
        {
          "name": "stdout",
          "text": "Epoch 9/10: Train Loss: 0.7611, Val Loss: 0.6937, Val Accuracy: 51.57%\n",
          "output_type": "stream"
        },
        {
          "name": "stderr",
          "text": "Training: 100%|██████████| 63/63 [00:02<00:00, 22.19it/s]\nValidation: 100%|██████████| 16/16 [00:00<00:00, 50.91it/s]\n",
          "output_type": "stream"
        },
        {
          "name": "stdout",
          "text": "Epoch 10/10: Train Loss: 0.7432, Val Loss: 0.7020, Val Accuracy: 48.43%\n",
          "output_type": "stream"
        },
        {
          "name": "stderr",
          "text": "Training: 100%|██████████| 251/251 [00:02<00:00, 102.77it/s]\nValidation: 100%|██████████| 63/63 [00:00<00:00, 194.26it/s]\n",
          "output_type": "stream"
        },
        {
          "name": "stdout",
          "text": "Epoch 1/10: Train Loss: 159.8980, Val Loss: 0.6932, Val Accuracy: 51.57%\n",
          "output_type": "stream"
        },
        {
          "name": "stderr",
          "text": "Training: 100%|██████████| 251/251 [00:02<00:00, 102.48it/s]\nValidation: 100%|██████████| 63/63 [00:00<00:00, 200.25it/s]\n",
          "output_type": "stream"
        },
        {
          "name": "stdout",
          "text": "Epoch 2/10: Train Loss: 0.8118, Val Loss: 0.8752, Val Accuracy: 48.43%\n",
          "output_type": "stream"
        },
        {
          "name": "stderr",
          "text": "Training: 100%|██████████| 251/251 [00:02<00:00, 101.97it/s]\nValidation: 100%|██████████| 63/63 [00:00<00:00, 181.61it/s]\n",
          "output_type": "stream"
        },
        {
          "name": "stdout",
          "text": "Epoch 3/10: Train Loss: 0.8520, Val Loss: 1.2572, Val Accuracy: 48.43%\n",
          "output_type": "stream"
        },
        {
          "name": "stderr",
          "text": "Training: 100%|██████████| 251/251 [00:02<00:00, 101.58it/s]\nValidation: 100%|██████████| 63/63 [00:00<00:00, 197.87it/s]\n",
          "output_type": "stream"
        },
        {
          "name": "stdout",
          "text": "Epoch 4/10: Train Loss: 0.8406, Val Loss: 0.7960, Val Accuracy: 48.43%\n",
          "output_type": "stream"
        },
        {
          "name": "stderr",
          "text": "Training: 100%|██████████| 251/251 [00:02<00:00, 102.40it/s]\nValidation: 100%|██████████| 63/63 [00:00<00:00, 192.91it/s]\n",
          "output_type": "stream"
        },
        {
          "name": "stdout",
          "text": "Epoch 5/10: Train Loss: 0.8547, Val Loss: 0.9860, Val Accuracy: 51.57%\n",
          "output_type": "stream"
        },
        {
          "name": "stderr",
          "text": "Training: 100%|██████████| 251/251 [00:02<00:00, 103.57it/s]\nValidation: 100%|██████████| 63/63 [00:00<00:00, 193.18it/s]\n",
          "output_type": "stream"
        },
        {
          "name": "stdout",
          "text": "Epoch 6/10: Train Loss: 0.8894, Val Loss: 0.7041, Val Accuracy: 48.43%\n",
          "output_type": "stream"
        },
        {
          "name": "stderr",
          "text": "Training: 100%|██████████| 251/251 [00:02<00:00, 102.00it/s]\nValidation: 100%|██████████| 63/63 [00:00<00:00, 193.93it/s]\n",
          "output_type": "stream"
        },
        {
          "name": "stdout",
          "text": "Epoch 7/10: Train Loss: 0.8530, Val Loss: 0.6954, Val Accuracy: 51.57%\n",
          "output_type": "stream"
        },
        {
          "name": "stderr",
          "text": "Training: 100%|██████████| 251/251 [00:02<00:00, 103.41it/s]\nValidation: 100%|██████████| 63/63 [00:00<00:00, 197.56it/s]\n",
          "output_type": "stream"
        },
        {
          "name": "stdout",
          "text": "Epoch 8/10: Train Loss: 0.8576, Val Loss: 0.6933, Val Accuracy: 48.43%\n",
          "output_type": "stream"
        },
        {
          "name": "stderr",
          "text": "Training: 100%|██████████| 251/251 [00:02<00:00, 99.77it/s] \nValidation: 100%|██████████| 63/63 [00:00<00:00, 191.96it/s]\n",
          "output_type": "stream"
        },
        {
          "name": "stdout",
          "text": "Epoch 9/10: Train Loss: 1.0124, Val Loss: 0.7017, Val Accuracy: 51.57%\n",
          "output_type": "stream"
        },
        {
          "name": "stderr",
          "text": "Training: 100%|██████████| 251/251 [00:02<00:00, 101.70it/s]\nValidation: 100%|██████████| 63/63 [00:00<00:00, 183.92it/s]",
          "output_type": "stream"
        },
        {
          "name": "stdout",
          "text": "Epoch 10/10: Train Loss: 0.9344, Val Loss: 0.8274, Val Accuracy: 51.57%\n\nConfiguration 1:\nEmbedding Dimension: 64, Hidden Size: 64, Batch Size: 256,\nvalidation_accuracy [48.428927680798004, 48.428927680798004, 51.571072319201996, 48.428927680798004, 48.428927680798004, 51.571072319201996, 51.571072319201996, 48.428927680798004, 51.571072319201996, 48.428927680798004]\n\nConfiguration 2:\nEmbedding Dimension: 128, Hidden Size: 128, Batch Size: 128,\nvalidation_accuracy [48.428927680798004, 48.428927680798004, 48.428927680798004, 48.428927680798004, 48.428927680798004, 51.571072319201996, 48.428927680798004, 48.428927680798004, 51.571072319201996, 51.571072319201996]\n\nConfiguration 3:\nEmbedding Dimension: 256, Hidden Size: 256, Batch Size: 128,\nvalidation_accuracy [48.428927680798004, 51.571072319201996, 51.571072319201996, 51.571072319201996, 51.571072319201996, 48.428927680798004, 48.428927680798004, 51.571072319201996, 48.428927680798004, 51.571072319201996]\n\nConfiguration 4:\nEmbedding Dimension: 128, Hidden Size: 256, Batch Size: 256,\nvalidation_accuracy [48.428927680798004, 51.571072319201996, 48.428927680798004, 48.428927680798004, 51.571072319201996, 51.571072319201996, 51.571072319201996, 48.428927680798004, 51.571072319201996, 48.428927680798004]\n\nConfiguration 5:\nEmbedding Dimension: 64, Hidden Size: 128, Batch Size: 64,\nvalidation_accuracy [51.571072319201996, 48.428927680798004, 48.428927680798004, 48.428927680798004, 51.571072319201996, 48.428927680798004, 51.571072319201996, 48.428927680798004, 51.571072319201996, 51.571072319201996]\n",
          "output_type": "stream"
        },
        {
          "name": "stderr",
          "text": "\n",
          "output_type": "stream"
        }
      ]
    },
    {
      "cell_type": "markdown",
      "source": [
        "### 3. After RNNs\n",
        "#### 3.1 Keeping all the parameters same, replace the RNN layer with the LSTM layer using nn.LSTM. What changes do you observe ? Explain why LSTM layer would affect performance."
      ],
      "metadata": {
        "id": "791zabclpSgi"
      }
    },
    {
      "cell_type": "code",
      "source": [
        "# Define the LSTM model with 2 layers\n",
        "class LSTMModel(nn.Module):\n",
        "    def __init__(self, vocab_size, embedding_dim, hidden_size, num_classes):\n",
        "        super(LSTMModel, self).__init__()\n",
        "        self.embedding = nn.Embedding(vocab_size, embedding_dim)\n",
        "        self.lstm1 = nn.LSTM(embedding_dim, hidden_size, batch_first=True)\n",
        "        self.lstm2 = nn.LSTM(hidden_size, hidden_size, batch_first=True)\n",
        "        self.fc = nn.Linear(hidden_size, num_classes)\n",
        "\n",
        "    def forward(self, X):\n",
        "        embedded = self.embedding(X)\n",
        "        lstm_out1, _ = self.lstm1(embedded)\n",
        "        lstm_out2, _ = self.lstm2(lstm_out1)\n",
        "        logits = self.fc(lstm_out2[:, -1, :])\n",
        "        return logits\n"
      ],
      "metadata": {
        "id": "lkbOdAMUrpgl",
        "execution": {
          "iopub.status.busy": "2024-03-28T11:06:39.766656Z",
          "iopub.execute_input": "2024-03-28T11:06:39.767014Z",
          "iopub.status.idle": "2024-03-28T11:06:39.774259Z",
          "shell.execute_reply.started": "2024-03-28T11:06:39.766985Z",
          "shell.execute_reply": "2024-03-28T11:06:39.773342Z"
        },
        "trusted": true
      },
      "execution_count": null,
      "outputs": []
    },
    {
      "cell_type": "code",
      "source": [
        "# create dataloaders using the dataset\n",
        "params = {\n",
        "    'batch_size':256,\n",
        "    'shuffle': True,\n",
        "    'num_workers': 2\n",
        "}\n",
        "\n",
        "train_dataloader = DataLoader(train_ds, **params)\n",
        "val_dataloader = DataLoader(val_ds, **params)\n",
        "test_dataloader = DataLoader(test_ds, **params)\n",
        "\n",
        "hidden_size = 256\n",
        "embedding_dim = 128\n",
        "learning_rate = 1e-3\n",
        "epochs = 15\n",
        "num_classes = len(set(train_labels))\n",
        "vocab_size = len(word2idx)+1\n",
        "\n",
        "# create the model\n",
        "model_LSTM = LSTMModel(vocab_size, hidden_size, embedding_dim, num_classes).to(device)\n"
      ],
      "metadata": {
        "id": "hmlHasde9_yA",
        "execution": {
          "iopub.status.busy": "2024-03-28T11:06:49.727514Z",
          "iopub.execute_input": "2024-03-28T11:06:49.728233Z",
          "iopub.status.idle": "2024-03-28T11:06:49.913100Z",
          "shell.execute_reply.started": "2024-03-28T11:06:49.728200Z",
          "shell.execute_reply": "2024-03-28T11:06:49.911867Z"
        },
        "trusted": true
      },
      "execution_count": null,
      "outputs": []
    },
    {
      "cell_type": "code",
      "source": [
        "train_losses, val_losses, val_accuracy = train_model(model_LSTM, train_dataloader, val_dataloader , epochs = epochs)"
      ],
      "metadata": {
        "colab": {
          "base_uri": "https://localhost:8080/"
        },
        "id": "LHpH11Fk_3Vr",
        "outputId": "fc9b1dcd-3fcc-4809-9311-6bc9cb65b378",
        "execution": {
          "iopub.status.busy": "2024-03-28T10:35:59.065971Z",
          "iopub.execute_input": "2024-03-28T10:35:59.066393Z",
          "iopub.status.idle": "2024-03-28T10:38:02.562480Z",
          "shell.execute_reply.started": "2024-03-28T10:35:59.066366Z",
          "shell.execute_reply": "2024-03-28T10:38:02.561290Z"
        },
        "trusted": true
      },
      "execution_count": null,
      "outputs": [
        {
          "name": "stderr",
          "text": "Training: 100%|██████████| 63/63 [00:07<00:00,  8.64it/s]\nValidation: 100%|██████████| 16/16 [00:00<00:00, 21.95it/s]\n",
          "output_type": "stream"
        },
        {
          "name": "stdout",
          "text": "Epoch 1/15: Train Loss: 0.6937, Val Loss: 0.6926, Val Accuracy: 51.55%\n",
          "output_type": "stream"
        },
        {
          "name": "stderr",
          "text": "Training: 100%|██████████| 63/63 [00:07<00:00,  8.65it/s]\nValidation: 100%|██████████| 16/16 [00:00<00:00, 21.83it/s]\n",
          "output_type": "stream"
        },
        {
          "name": "stdout",
          "text": "Epoch 2/15: Train Loss: 0.6931, Val Loss: 0.6930, Val Accuracy: 51.55%\n",
          "output_type": "stream"
        },
        {
          "name": "stderr",
          "text": "Training: 100%|██████████| 63/63 [00:07<00:00,  8.65it/s]\nValidation: 100%|██████████| 16/16 [00:00<00:00, 21.96it/s]\n",
          "output_type": "stream"
        },
        {
          "name": "stdout",
          "text": "Epoch 3/15: Train Loss: 0.6931, Val Loss: 0.6928, Val Accuracy: 51.57%\n",
          "output_type": "stream"
        },
        {
          "name": "stderr",
          "text": "Training: 100%|██████████| 63/63 [00:07<00:00,  8.63it/s]\nValidation: 100%|██████████| 16/16 [00:00<00:00, 22.05it/s]\n",
          "output_type": "stream"
        },
        {
          "name": "stdout",
          "text": "Epoch 4/15: Train Loss: 0.6929, Val Loss: 0.6927, Val Accuracy: 51.57%\n",
          "output_type": "stream"
        },
        {
          "name": "stderr",
          "text": "Training: 100%|██████████| 63/63 [00:07<00:00,  8.65it/s]\nValidation: 100%|██████████| 16/16 [00:00<00:00, 22.07it/s]\n",
          "output_type": "stream"
        },
        {
          "name": "stdout",
          "text": "Epoch 5/15: Train Loss: 0.6931, Val Loss: 0.6927, Val Accuracy: 51.57%\n",
          "output_type": "stream"
        },
        {
          "name": "stderr",
          "text": "Training: 100%|██████████| 63/63 [00:07<00:00,  8.61it/s]\nValidation: 100%|██████████| 16/16 [00:00<00:00, 22.04it/s]\n",
          "output_type": "stream"
        },
        {
          "name": "stdout",
          "text": "Epoch 6/15: Train Loss: 0.6927, Val Loss: 0.6929, Val Accuracy: 51.60%\n",
          "output_type": "stream"
        },
        {
          "name": "stderr",
          "text": "Training: 100%|██████████| 63/63 [00:07<00:00,  8.47it/s]\nValidation: 100%|██████████| 16/16 [00:00<00:00, 22.17it/s]\n",
          "output_type": "stream"
        },
        {
          "name": "stdout",
          "text": "Epoch 7/15: Train Loss: 0.6886, Val Loss: 0.6628, Val Accuracy: 61.62%\n",
          "output_type": "stream"
        },
        {
          "name": "stderr",
          "text": "Training: 100%|██████████| 63/63 [00:07<00:00,  8.37it/s]\nValidation: 100%|██████████| 16/16 [00:00<00:00, 22.12it/s]\n",
          "output_type": "stream"
        },
        {
          "name": "stdout",
          "text": "Epoch 8/15: Train Loss: 0.6080, Val Loss: 0.5671, Val Accuracy: 71.40%\n",
          "output_type": "stream"
        },
        {
          "name": "stderr",
          "text": "Training: 100%|██████████| 63/63 [00:07<00:00,  8.30it/s]\nValidation: 100%|██████████| 16/16 [00:00<00:00, 21.88it/s]\n",
          "output_type": "stream"
        },
        {
          "name": "stdout",
          "text": "Epoch 9/15: Train Loss: 0.5320, Val Loss: 0.6215, Val Accuracy: 65.49%\n",
          "output_type": "stream"
        },
        {
          "name": "stderr",
          "text": "Training: 100%|██████████| 63/63 [00:07<00:00,  8.20it/s]\nValidation: 100%|██████████| 16/16 [00:00<00:00, 21.84it/s]\n",
          "output_type": "stream"
        },
        {
          "name": "stdout",
          "text": "Epoch 10/15: Train Loss: 0.4680, Val Loss: 0.4921, Val Accuracy: 79.15%\n",
          "output_type": "stream"
        },
        {
          "name": "stderr",
          "text": "Training: 100%|██████████| 63/63 [00:07<00:00,  8.19it/s]\nValidation: 100%|██████████| 16/16 [00:00<00:00, 21.76it/s]\n",
          "output_type": "stream"
        },
        {
          "name": "stdout",
          "text": "Epoch 11/15: Train Loss: 0.3362, Val Loss: 0.4413, Val Accuracy: 81.82%\n",
          "output_type": "stream"
        },
        {
          "name": "stderr",
          "text": "Training: 100%|██████████| 63/63 [00:07<00:00,  8.21it/s]\nValidation: 100%|██████████| 16/16 [00:00<00:00, 21.97it/s]\n",
          "output_type": "stream"
        },
        {
          "name": "stdout",
          "text": "Epoch 12/15: Train Loss: 0.2616, Val Loss: 0.4774, Val Accuracy: 80.82%\n",
          "output_type": "stream"
        },
        {
          "name": "stderr",
          "text": "Training: 100%|██████████| 63/63 [00:07<00:00,  8.20it/s]\nValidation: 100%|██████████| 16/16 [00:00<00:00, 22.09it/s]\n",
          "output_type": "stream"
        },
        {
          "name": "stdout",
          "text": "Epoch 13/15: Train Loss: 0.2090, Val Loss: 0.4655, Val Accuracy: 82.24%\n",
          "output_type": "stream"
        },
        {
          "name": "stderr",
          "text": "Training: 100%|██████████| 63/63 [00:07<00:00,  8.18it/s]\nValidation: 100%|██████████| 16/16 [00:00<00:00, 21.97it/s]\n",
          "output_type": "stream"
        },
        {
          "name": "stdout",
          "text": "Epoch 14/15: Train Loss: 0.1701, Val Loss: 0.5204, Val Accuracy: 81.42%\n",
          "output_type": "stream"
        },
        {
          "name": "stderr",
          "text": "Training: 100%|██████████| 63/63 [00:07<00:00,  8.18it/s]\nValidation: 100%|██████████| 16/16 [00:00<00:00, 22.01it/s]",
          "output_type": "stream"
        },
        {
          "name": "stdout",
          "text": "Epoch 15/15: Train Loss: 0.1401, Val Loss: 0.5751, Val Accuracy: 81.70%\n",
          "output_type": "stream"
        },
        {
          "name": "stderr",
          "text": "\n",
          "output_type": "stream"
        }
      ]
    },
    {
      "cell_type": "code",
      "source": [
        "def test(model, test_loader):\n",
        "    model.eval()\n",
        "    correct = 0\n",
        "    total = 0\n",
        "\n",
        "    with torch.no_grad():\n",
        "        for input_batch, output_batch in tqdm(test_loader):\n",
        "            input_batch, output_batch = input_batch.to(device), output_batch.to(device)\n",
        "            #get outputs from the trained model\n",
        "            pred_outputs = model(input_batch)\n",
        "            _, predicted = torch.max(pred_outputs, dim=1)  # Get predicted class labels\n",
        "            total += output_batch.size(0)\n",
        "            correct += (predicted == output_batch).sum().item()\n",
        "\n",
        "    accuracy = 100 * (correct / total)\n",
        "    print(f\"Test Accuracy: {accuracy:.2f}%\")\n",
        "    return accuracy\n",
        "\n",
        "accuracy = test(model_LSTM, test_dataloader)"
      ],
      "metadata": {
        "execution": {
          "iopub.status.busy": "2024-03-28T10:38:02.564015Z",
          "iopub.execute_input": "2024-03-28T10:38:02.564340Z",
          "iopub.status.idle": "2024-03-28T10:38:05.852068Z",
          "shell.execute_reply.started": "2024-03-28T10:38:02.564310Z",
          "shell.execute_reply": "2024-03-28T10:38:05.850940Z"
        },
        "trusted": true,
        "id": "9ealbU53voAz",
        "outputId": "c479dbd8-43e0-44b7-c1b3-117a61f7695f"
      },
      "execution_count": null,
      "outputs": [
        {
          "name": "stderr",
          "text": "100%|██████████| 79/79 [00:03<00:00, 24.12it/s]",
          "output_type": "stream"
        },
        {
          "name": "stdout",
          "text": "Test Accuracy: 81.70%\n",
          "output_type": "stream"
        },
        {
          "name": "stderr",
          "text": "\n",
          "output_type": "stream"
        }
      ]
    }
  ]
}