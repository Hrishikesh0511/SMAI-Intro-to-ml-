{
  "cells": [
    {
      "cell_type": "markdown",
      "metadata": {
        "id": "blv6XBI5GxO9"
      },
      "source": [
        "# SMAI Assignment - 2\n",
        "\n",
        "## Question 1: Naive Bayes and Clustering\n",
        "\n",
        "### Part 1: Naive Bayes\n",
        "\n",
        "[Files](https://drive.google.com/drive/folders/1OUVrOMp2jSSBDJSqvEyXDFTrhiyZnqit?usp=sharing)\n",
        "\n",
        "You will be performing Sentiment Analysis on a product review dataset with reviews from customers and star rating belonging to four classes (1,2,4,5). You can use sklearn for this question. Your tasks are as follows:\n",
        "\n",
        "1.   Clean the text by removing punctations and preprocess them using techniques such as stop word removal, stemming etc. You can explore anything!\n",
        "1.  Create BoW features using the word counts. You can choose the words that form the features such that the performance is optimised. Use the train-test split provided in `train_test_index.pickle` and report any interesting observations based on metrics such as accurarcy, precision, recall and f1 score (You can use Classification report in sklearn).\n",
        "1. Repeat Task 2 with TfIdf features."
      ]
    },
    {
      "cell_type": "code",
      "source": [
        "from google.colab import drive\n",
        "drive.mount('/content/drive')"
      ],
      "metadata": {
        "colab": {
          "base_uri": "https://localhost:8080/"
        },
        "id": "cA8JpT1B83og",
        "outputId": "01854bb4-703c-438c-cf49-d3bb2f7c0b23"
      },
      "execution_count": 1,
      "outputs": [
        {
          "output_type": "stream",
          "name": "stdout",
          "text": [
            "Mounted at /content/drive\n"
          ]
        }
      ]
    },
    {
      "cell_type": "code",
      "execution_count": 2,
      "metadata": {
        "id": "U0nNsliRUjqd"
      },
      "outputs": [],
      "source": [
        "import pickle\n",
        "with open('/content/drive/MyDrive/train_test_index.pickle', 'rb') as handle:\n",
        "    train_test_index_dict = pickle.load(handle)"
      ]
    },
    {
      "cell_type": "code",
      "execution_count": 3,
      "metadata": {
        "id": "86GXlinlUz8b",
        "colab": {
          "base_uri": "https://localhost:8080/",
          "height": 206
        },
        "outputId": "0baa81f3-ac94-4ba2-a772-943c681c3113"
      },
      "outputs": [
        {
          "output_type": "execute_result",
          "data": {
            "text/plain": [
              "                                                text  stars  sentiment\n",
              "0  Total bill for this horrible service? Over $8G...    1.0          0\n",
              "1  Went in for a lunch. Steak sandwich was delici...    5.0          1\n",
              "2  This place has gone down hill.  Clearly they h...    1.0          0\n",
              "3  Walked in around 4 on a Friday afternoon, we s...    1.0          0\n",
              "4  Michael from Red Carpet VIP is amazing ! I rea...    4.0          1"
            ],
            "text/html": [
              "\n",
              "  <div id=\"df-688ec9d4-4ce1-4b02-abb9-67595a66cf7a\" class=\"colab-df-container\">\n",
              "    <div>\n",
              "<style scoped>\n",
              "    .dataframe tbody tr th:only-of-type {\n",
              "        vertical-align: middle;\n",
              "    }\n",
              "\n",
              "    .dataframe tbody tr th {\n",
              "        vertical-align: top;\n",
              "    }\n",
              "\n",
              "    .dataframe thead th {\n",
              "        text-align: right;\n",
              "    }\n",
              "</style>\n",
              "<table border=\"1\" class=\"dataframe\">\n",
              "  <thead>\n",
              "    <tr style=\"text-align: right;\">\n",
              "      <th></th>\n",
              "      <th>text</th>\n",
              "      <th>stars</th>\n",
              "      <th>sentiment</th>\n",
              "    </tr>\n",
              "  </thead>\n",
              "  <tbody>\n",
              "    <tr>\n",
              "      <th>0</th>\n",
              "      <td>Total bill for this horrible service? Over $8G...</td>\n",
              "      <td>1.0</td>\n",
              "      <td>0</td>\n",
              "    </tr>\n",
              "    <tr>\n",
              "      <th>1</th>\n",
              "      <td>Went in for a lunch. Steak sandwich was delici...</td>\n",
              "      <td>5.0</td>\n",
              "      <td>1</td>\n",
              "    </tr>\n",
              "    <tr>\n",
              "      <th>2</th>\n",
              "      <td>This place has gone down hill.  Clearly they h...</td>\n",
              "      <td>1.0</td>\n",
              "      <td>0</td>\n",
              "    </tr>\n",
              "    <tr>\n",
              "      <th>3</th>\n",
              "      <td>Walked in around 4 on a Friday afternoon, we s...</td>\n",
              "      <td>1.0</td>\n",
              "      <td>0</td>\n",
              "    </tr>\n",
              "    <tr>\n",
              "      <th>4</th>\n",
              "      <td>Michael from Red Carpet VIP is amazing ! I rea...</td>\n",
              "      <td>4.0</td>\n",
              "      <td>1</td>\n",
              "    </tr>\n",
              "  </tbody>\n",
              "</table>\n",
              "</div>\n",
              "    <div class=\"colab-df-buttons\">\n",
              "\n",
              "  <div class=\"colab-df-container\">\n",
              "    <button class=\"colab-df-convert\" onclick=\"convertToInteractive('df-688ec9d4-4ce1-4b02-abb9-67595a66cf7a')\"\n",
              "            title=\"Convert this dataframe to an interactive table.\"\n",
              "            style=\"display:none;\">\n",
              "\n",
              "  <svg xmlns=\"http://www.w3.org/2000/svg\" height=\"24px\" viewBox=\"0 -960 960 960\">\n",
              "    <path d=\"M120-120v-720h720v720H120Zm60-500h600v-160H180v160Zm220 220h160v-160H400v160Zm0 220h160v-160H400v160ZM180-400h160v-160H180v160Zm440 0h160v-160H620v160ZM180-180h160v-160H180v160Zm440 0h160v-160H620v160Z\"/>\n",
              "  </svg>\n",
              "    </button>\n",
              "\n",
              "  <style>\n",
              "    .colab-df-container {\n",
              "      display:flex;\n",
              "      gap: 12px;\n",
              "    }\n",
              "\n",
              "    .colab-df-convert {\n",
              "      background-color: #E8F0FE;\n",
              "      border: none;\n",
              "      border-radius: 50%;\n",
              "      cursor: pointer;\n",
              "      display: none;\n",
              "      fill: #1967D2;\n",
              "      height: 32px;\n",
              "      padding: 0 0 0 0;\n",
              "      width: 32px;\n",
              "    }\n",
              "\n",
              "    .colab-df-convert:hover {\n",
              "      background-color: #E2EBFA;\n",
              "      box-shadow: 0px 1px 2px rgba(60, 64, 67, 0.3), 0px 1px 3px 1px rgba(60, 64, 67, 0.15);\n",
              "      fill: #174EA6;\n",
              "    }\n",
              "\n",
              "    .colab-df-buttons div {\n",
              "      margin-bottom: 4px;\n",
              "    }\n",
              "\n",
              "    [theme=dark] .colab-df-convert {\n",
              "      background-color: #3B4455;\n",
              "      fill: #D2E3FC;\n",
              "    }\n",
              "\n",
              "    [theme=dark] .colab-df-convert:hover {\n",
              "      background-color: #434B5C;\n",
              "      box-shadow: 0px 1px 3px 1px rgba(0, 0, 0, 0.15);\n",
              "      filter: drop-shadow(0px 1px 2px rgba(0, 0, 0, 0.3));\n",
              "      fill: #FFFFFF;\n",
              "    }\n",
              "  </style>\n",
              "\n",
              "    <script>\n",
              "      const buttonEl =\n",
              "        document.querySelector('#df-688ec9d4-4ce1-4b02-abb9-67595a66cf7a button.colab-df-convert');\n",
              "      buttonEl.style.display =\n",
              "        google.colab.kernel.accessAllowed ? 'block' : 'none';\n",
              "\n",
              "      async function convertToInteractive(key) {\n",
              "        const element = document.querySelector('#df-688ec9d4-4ce1-4b02-abb9-67595a66cf7a');\n",
              "        const dataTable =\n",
              "          await google.colab.kernel.invokeFunction('convertToInteractive',\n",
              "                                                    [key], {});\n",
              "        if (!dataTable) return;\n",
              "\n",
              "        const docLinkHtml = 'Like what you see? Visit the ' +\n",
              "          '<a target=\"_blank\" href=https://colab.research.google.com/notebooks/data_table.ipynb>data table notebook</a>'\n",
              "          + ' to learn more about interactive tables.';\n",
              "        element.innerHTML = '';\n",
              "        dataTable['output_type'] = 'display_data';\n",
              "        await google.colab.output.renderOutput(dataTable, element);\n",
              "        const docLink = document.createElement('div');\n",
              "        docLink.innerHTML = docLinkHtml;\n",
              "        element.appendChild(docLink);\n",
              "      }\n",
              "    </script>\n",
              "  </div>\n",
              "\n",
              "\n",
              "<div id=\"df-8c953a72-87eb-468d-af07-5c48e048c23c\">\n",
              "  <button class=\"colab-df-quickchart\" onclick=\"quickchart('df-8c953a72-87eb-468d-af07-5c48e048c23c')\"\n",
              "            title=\"Suggest charts\"\n",
              "            style=\"display:none;\">\n",
              "\n",
              "<svg xmlns=\"http://www.w3.org/2000/svg\" height=\"24px\"viewBox=\"0 0 24 24\"\n",
              "     width=\"24px\">\n",
              "    <g>\n",
              "        <path d=\"M19 3H5c-1.1 0-2 .9-2 2v14c0 1.1.9 2 2 2h14c1.1 0 2-.9 2-2V5c0-1.1-.9-2-2-2zM9 17H7v-7h2v7zm4 0h-2V7h2v10zm4 0h-2v-4h2v4z\"/>\n",
              "    </g>\n",
              "</svg>\n",
              "  </button>\n",
              "\n",
              "<style>\n",
              "  .colab-df-quickchart {\n",
              "      --bg-color: #E8F0FE;\n",
              "      --fill-color: #1967D2;\n",
              "      --hover-bg-color: #E2EBFA;\n",
              "      --hover-fill-color: #174EA6;\n",
              "      --disabled-fill-color: #AAA;\n",
              "      --disabled-bg-color: #DDD;\n",
              "  }\n",
              "\n",
              "  [theme=dark] .colab-df-quickchart {\n",
              "      --bg-color: #3B4455;\n",
              "      --fill-color: #D2E3FC;\n",
              "      --hover-bg-color: #434B5C;\n",
              "      --hover-fill-color: #FFFFFF;\n",
              "      --disabled-bg-color: #3B4455;\n",
              "      --disabled-fill-color: #666;\n",
              "  }\n",
              "\n",
              "  .colab-df-quickchart {\n",
              "    background-color: var(--bg-color);\n",
              "    border: none;\n",
              "    border-radius: 50%;\n",
              "    cursor: pointer;\n",
              "    display: none;\n",
              "    fill: var(--fill-color);\n",
              "    height: 32px;\n",
              "    padding: 0;\n",
              "    width: 32px;\n",
              "  }\n",
              "\n",
              "  .colab-df-quickchart:hover {\n",
              "    background-color: var(--hover-bg-color);\n",
              "    box-shadow: 0 1px 2px rgba(60, 64, 67, 0.3), 0 1px 3px 1px rgba(60, 64, 67, 0.15);\n",
              "    fill: var(--button-hover-fill-color);\n",
              "  }\n",
              "\n",
              "  .colab-df-quickchart-complete:disabled,\n",
              "  .colab-df-quickchart-complete:disabled:hover {\n",
              "    background-color: var(--disabled-bg-color);\n",
              "    fill: var(--disabled-fill-color);\n",
              "    box-shadow: none;\n",
              "  }\n",
              "\n",
              "  .colab-df-spinner {\n",
              "    border: 2px solid var(--fill-color);\n",
              "    border-color: transparent;\n",
              "    border-bottom-color: var(--fill-color);\n",
              "    animation:\n",
              "      spin 1s steps(1) infinite;\n",
              "  }\n",
              "\n",
              "  @keyframes spin {\n",
              "    0% {\n",
              "      border-color: transparent;\n",
              "      border-bottom-color: var(--fill-color);\n",
              "      border-left-color: var(--fill-color);\n",
              "    }\n",
              "    20% {\n",
              "      border-color: transparent;\n",
              "      border-left-color: var(--fill-color);\n",
              "      border-top-color: var(--fill-color);\n",
              "    }\n",
              "    30% {\n",
              "      border-color: transparent;\n",
              "      border-left-color: var(--fill-color);\n",
              "      border-top-color: var(--fill-color);\n",
              "      border-right-color: var(--fill-color);\n",
              "    }\n",
              "    40% {\n",
              "      border-color: transparent;\n",
              "      border-right-color: var(--fill-color);\n",
              "      border-top-color: var(--fill-color);\n",
              "    }\n",
              "    60% {\n",
              "      border-color: transparent;\n",
              "      border-right-color: var(--fill-color);\n",
              "    }\n",
              "    80% {\n",
              "      border-color: transparent;\n",
              "      border-right-color: var(--fill-color);\n",
              "      border-bottom-color: var(--fill-color);\n",
              "    }\n",
              "    90% {\n",
              "      border-color: transparent;\n",
              "      border-bottom-color: var(--fill-color);\n",
              "    }\n",
              "  }\n",
              "</style>\n",
              "\n",
              "  <script>\n",
              "    async function quickchart(key) {\n",
              "      const quickchartButtonEl =\n",
              "        document.querySelector('#' + key + ' button');\n",
              "      quickchartButtonEl.disabled = true;  // To prevent multiple clicks.\n",
              "      quickchartButtonEl.classList.add('colab-df-spinner');\n",
              "      try {\n",
              "        const charts = await google.colab.kernel.invokeFunction(\n",
              "            'suggestCharts', [key], {});\n",
              "      } catch (error) {\n",
              "        console.error('Error during call to suggestCharts:', error);\n",
              "      }\n",
              "      quickchartButtonEl.classList.remove('colab-df-spinner');\n",
              "      quickchartButtonEl.classList.add('colab-df-quickchart-complete');\n",
              "    }\n",
              "    (() => {\n",
              "      let quickchartButtonEl =\n",
              "        document.querySelector('#df-8c953a72-87eb-468d-af07-5c48e048c23c button');\n",
              "      quickchartButtonEl.style.display =\n",
              "        google.colab.kernel.accessAllowed ? 'block' : 'none';\n",
              "    })();\n",
              "  </script>\n",
              "</div>\n",
              "\n",
              "    </div>\n",
              "  </div>\n"
            ],
            "application/vnd.google.colaboratory.intrinsic+json": {
              "type": "dataframe",
              "variable_name": "data",
              "summary": "{\n  \"name\": \"data\",\n  \"rows\": 26661,\n  \"fields\": [\n    {\n      \"column\": \"text\",\n      \"properties\": {\n        \"dtype\": \"string\",\n        \"num_unique_values\": 26652,\n        \"samples\": [\n          \"this place is absolutely amazing. (good) italian vegan food is hard to find and this is the place to go. i had the veggie balls and the vegan baked ziti and added mushrooms. every bite was amazing. good for sharing bc the portions are HUGE. I've never been able to finish anything from here in one sitting.\",\n          \"Decent unassuming sports bar with good grub and good beer. Many TVs and a full bar. Service was as good as it gets. This place is owned by a nice young couple from Minnesota.\",\n          \"The best shop to be very nice clean auto shop very friendly and family owned and operated highly recommend for your car service needs at very honest prices clean work you guys are the best!!!!!!!!\"\n        ],\n        \"semantic_type\": \"\",\n        \"description\": \"\"\n      }\n    },\n    {\n      \"column\": \"stars\",\n      \"properties\": {\n        \"dtype\": \"number\",\n        \"std\": 1.420209841029186,\n        \"min\": 1.0,\n        \"max\": 5.0,\n        \"num_unique_values\": 4,\n        \"samples\": [\n          5.0,\n          2.0,\n          1.0\n        ],\n        \"semantic_type\": \"\",\n        \"description\": \"\"\n      }\n    },\n    {\n      \"column\": \"sentiment\",\n      \"properties\": {\n        \"dtype\": \"number\",\n        \"std\": 0,\n        \"min\": 0,\n        \"max\": 1,\n        \"num_unique_values\": 2,\n        \"samples\": [\n          1,\n          0\n        ],\n        \"semantic_type\": \"\",\n        \"description\": \"\"\n      }\n    }\n  ]\n}"
            }
          },
          "metadata": {},
          "execution_count": 3
        }
      ],
      "source": [
        "import pandas as pd\n",
        "\n",
        "data = pd.read_csv('/content/drive/MyDrive/product_reviews.csv')\n",
        "data.head()"
      ]
    },
    {
      "cell_type": "code",
      "source": [
        "# Text cleaning\n",
        "import nltk\n",
        "from nltk.corpus import stopwords\n",
        "from nltk.tokenize import word_tokenize\n",
        "from nltk.stem import PorterStemmer\n",
        "import re\n",
        "\n",
        "# Download specific NLTK resources\n",
        "nltk.download('punkt')\n",
        "nltk.download('stopwords')\n",
        "\n",
        "def clean_text(text):\n",
        "    text=text.lower()\n",
        "\n",
        "    # substitute anything that is not a alphabet with ''\n",
        "    text=re.sub(r'[^\\w\\s]','',text)\n",
        "\n",
        "    tokens =word_tokenize(text)\n",
        "\n",
        "    # remove stop words\n",
        "    stop_words=set(stopwords.words('english'))\n",
        "\n",
        "    tokens=[word for word in tokens if word not in stop_words]\n",
        "    # print(tokens)\n",
        "\n",
        "    #stemming\n",
        "    stemmer=PorterStemmer()\n",
        "    tokens=[stemmer.stem(word) for word in tokens]\n",
        "    # print(tokens)\n",
        "\n",
        "    cleaned_text= \" \".join(tokens)\n",
        "\n",
        "    return cleaned_text\n",
        "data['cleaned_text']=data['text'].apply(clean_text)\n",
        "print(data.head())"
      ],
      "metadata": {
        "colab": {
          "base_uri": "https://localhost:8080/"
        },
        "id": "Thj5ekFj4lmO",
        "outputId": "7153b7ce-7e50-4916-ac39-40c2d3395359"
      },
      "execution_count": 4,
      "outputs": [
        {
          "output_type": "stream",
          "name": "stderr",
          "text": [
            "[nltk_data] Downloading package punkt to /root/nltk_data...\n",
            "[nltk_data]   Unzipping tokenizers/punkt.zip.\n",
            "[nltk_data] Downloading package stopwords to /root/nltk_data...\n",
            "[nltk_data]   Unzipping corpora/stopwords.zip.\n"
          ]
        },
        {
          "output_type": "stream",
          "name": "stdout",
          "text": [
            "                                                text  stars  sentiment  \\\n",
            "0  Total bill for this horrible service? Over $8G...    1.0          0   \n",
            "1  Went in for a lunch. Steak sandwich was delici...    5.0          1   \n",
            "2  This place has gone down hill.  Clearly they h...    1.0          0   \n",
            "3  Walked in around 4 on a Friday afternoon, we s...    1.0          0   \n",
            "4  Michael from Red Carpet VIP is amazing ! I rea...    4.0          1   \n",
            "\n",
            "                                        cleaned_text  \n",
            "0  total bill horribl servic 8g crook actual nerv...  \n",
            "1  went lunch steak sandwich delici caesar salad ...  \n",
            "2  place gone hill clearli cut back staff food qu...  \n",
            "3  walk around 4 friday afternoon sat tabl bar wa...  \n",
            "4  michael red carpet vip amaz reach need help pl...  \n"
          ]
        }
      ]
    },
    {
      "cell_type": "code",
      "source": [
        "# Creating BoW features\n",
        "from sklearn.feature_extraction.text import CountVectorizer\n",
        "vectorizer=CountVectorizer()\n",
        "X=vectorizer.fit_transform(data['cleaned_text'])\n",
        "y=data['stars']\n",
        "# print(X.shape)\n",
        "# print(y.shape)\n",
        "X_train=X[train_test_index_dict['train_index']]\n",
        "y_train=y[train_test_index_dict['train_index']]\n",
        "X_test=X[train_test_index_dict['test_index']]\n",
        "y_test=y[train_test_index_dict['test_index']]"
      ],
      "metadata": {
        "id": "T9dWL__EejNd"
      },
      "execution_count": 5,
      "outputs": []
    },
    {
      "cell_type": "code",
      "source": [
        "# Fitting naive bayes classifier\n",
        "from sklearn.naive_bayes import MultinomialNB\n",
        "\n",
        "# train the classifer\n",
        "nb_classifier = MultinomialNB()\n",
        "nb_classifier.fit(X_train, y_train)\n",
        "\n",
        "# predict\n",
        "y_pred = nb_classifier.predict(X_test)\n",
        "\n",
        "# Evaluate the performance\n",
        "from sklearn.metrics import accuracy_score, precision_score, recall_score, f1_score\n",
        "\n",
        "accuracy = accuracy_score(y_test, y_pred)\n",
        "precision = precision_score(y_test, y_pred, average='weighted')\n",
        "recall = recall_score(y_test, y_pred, average='weighted')\n",
        "f1 = f1_score(y_test, y_pred, average='weighted')\n",
        "\n",
        "print(\"Using BoW features: \")\n",
        "print(\"Accuracy:\", accuracy)\n",
        "print(\"Precision:\", precision)\n",
        "print(\"Recall:\", recall)\n",
        "print(\"F1-score:\", f1)"
      ],
      "metadata": {
        "colab": {
          "base_uri": "https://localhost:8080/"
        },
        "id": "GsMyNRAchdod",
        "outputId": "9bbce543-0f19-4a72-c24a-bb046a6221c3"
      },
      "execution_count": 6,
      "outputs": [
        {
          "output_type": "stream",
          "name": "stdout",
          "text": [
            "Using BoW features: \n",
            "Accuracy: 0.6970110239799977\n",
            "Precision: 0.673678423528682\n",
            "Recall: 0.6970110239799977\n",
            "F1-score: 0.6773193893634201\n"
          ]
        }
      ]
    },
    {
      "cell_type": "code",
      "source": [
        "# Creating tf-idf features\n",
        "from sklearn.feature_extraction.text import TfidfVectorizer\n",
        "\n",
        "tfidf_vectorizer = TfidfVectorizer()\n",
        "X_tfidf = tfidf_vectorizer.fit_transform(data['cleaned_text'])\n",
        "\n",
        "X_train_tfidf = X_tfidf[train_test_index_dict['train_index']]\n",
        "X_test_tfidf = X_tfidf[train_test_index_dict['test_index']]"
      ],
      "metadata": {
        "id": "cAim7xE8jMaH"
      },
      "execution_count": 7,
      "outputs": []
    },
    {
      "cell_type": "code",
      "source": [
        "# Fitting naive bayes classifier\n",
        "nb_classifier.fit(X_train_tfidf, y_train)\n",
        "\n",
        "# predict\n",
        "y_pred = nb_classifier.predict(X_test_tfidf)\n",
        "\n",
        "print(\"Using Tf-Idf features: \")\n",
        "accuracy = accuracy_score(y_test, y_pred)\n",
        "precision = precision_score(y_test, y_pred, average='weighted')\n",
        "recall = recall_score(y_test, y_pred, average='weighted')\n",
        "f1 = f1_score(y_test, y_pred, average='weighted')\n",
        "\n",
        "print(\"Accuracy:\", accuracy)\n",
        "print(\"Precision:\", precision)\n",
        "print(\"Recall:\", recall)\n",
        "print(\"F1-score:\", f1)"
      ],
      "metadata": {
        "colab": {
          "base_uri": "https://localhost:8080/"
        },
        "id": "7nESncTnkRGi",
        "outputId": "80edb193-8949-4df3-b7c1-f265f0df3bd3"
      },
      "execution_count": 8,
      "outputs": [
        {
          "output_type": "stream",
          "name": "stdout",
          "text": [
            "Using Tf-Idf features: \n",
            "Accuracy: 0.5876804182293442\n",
            "Precision: 0.5737840185736859\n",
            "Recall: 0.5876804182293442\n",
            "F1-score: 0.44811561588533144\n"
          ]
        }
      ]
    },
    {
      "cell_type": "markdown",
      "metadata": {
        "id": "T8GYzpkuUcs6"
      },
      "source": [
        "### Part 2: Clustering\n",
        "\n",
        "You will be performing kmeans clustering on the same product reviews dataset from Part 1. In this question, instead of statistically computing features, you will use the embeddings obtained from a neural sentiment analysis model (huggingface: siebert/sentiment-roberta-large-english).\n",
        "\n",
        "You can use sklearn for this question. Your tasks are as follows:\n",
        "\n",
        "\n",
        "1. Perform kmeans clustering using sklearn. Try various values for number of clusters (k) and plot the elbow curve. For each value of k, plot WCSS (Within-Cluster Sum of Square). WCSS is the sum of the squared distance between each point and the centroid in a cluster.\n",
        "1. Perform task 1 with cluster initialisation methods [k-means++, forgy (\"random\" in sklearn)].\n",
        "1. In this case, since the ground truth labels (star rating) are available we can evaluate the clustering using metrics like purity, nmi and rand score. Implement these metrics from scratch and evaluate the clustering. [Reference](https://nlp.stanford.edu/IR-book/html/htmledition/evaluation-of-clustering-1.html)"
      ]
    },
    {
      "cell_type": "code",
      "execution_count": 9,
      "metadata": {
        "id": "5ddsz-nxGvfE",
        "colab": {
          "base_uri": "https://localhost:8080/"
        },
        "outputId": "e2b659ab-8bfe-4134-ad64-802d5ebc3113"
      },
      "outputs": [
        {
          "output_type": "stream",
          "name": "stdout",
          "text": [
            "(26661, 1024)\n"
          ]
        }
      ],
      "source": [
        "import gzip\n",
        "import numpy as np\n",
        "\n",
        "f = gzip.GzipFile('/content/drive/MyDrive/roberta_embeds.npy.gz', \"r\")\n",
        "embeds = np.load(f)\n",
        "print(embeds.shape)"
      ]
    },
    {
      "cell_type": "code",
      "source": [
        "import warnings\n",
        "import numpy as np\n",
        "import matplotlib.pyplot as plt\n",
        "from sklearn.cluster import KMeans\n",
        "warnings.filterwarnings('ignore')\n",
        "X=embeds\n",
        "\n",
        "k_values = range(1, 11)\n",
        "\n",
        "wcss_values = []\n",
        "\n",
        "for k in k_values:\n",
        "    # Fitting KMeans clustering on the data\n",
        "\n",
        "    kmeans = KMeans(n_clusters=k,init=\"k-means++\")\n",
        "    estimator=kmeans.fit(X)\n",
        "    # gives the sum of square disances\n",
        "    wcss = kmeans.inertia_\n",
        "    wcss_values.append(wcss)\n",
        "\n",
        "# Plot the elbow curve\n",
        "plt.plot(k_values, wcss_values, marker='o')\n",
        "plt.title('Elbow Curve')\n",
        "plt.xlabel('Number of Clusters (k)')\n",
        "plt.ylabel('Within-Cluster Sum of Squares (WCSS)')\n",
        "plt.xticks(k_values)\n",
        "plt.grid(True)\n",
        "plt.show()\n"
      ],
      "metadata": {
        "colab": {
          "base_uri": "https://localhost:8080/",
          "height": 472
        },
        "id": "dXH8X7Q95R_Q",
        "outputId": "2dc3eca9-36bb-4a1a-f65c-93862382ba27"
      },
      "execution_count": 10,
      "outputs": [
        {
          "output_type": "display_data",
          "data": {
            "text/plain": [
              "<Figure size 640x480 with 1 Axes>"
            ],
            "image/png": "[encoded data removed]"
          },
          "metadata": {}
        }
      ]
    },
    {
      "cell_type": "code",
      "source": [
        "# Instead of randomly chosing some centers, we select certain data points as centers using kmeans++ method\n",
        "import numpy as np\n",
        "import matplotlib.pyplot as plt\n",
        "from sklearn.cluster import KMeans\n",
        "\n",
        "X=embeds\n",
        "\n",
        "k_values = range(1, 11)\n",
        "\n",
        "wcss_values = []\n",
        "\n",
        "for k in k_values:\n",
        "    # Fitting KMeans clustering on the data\n",
        "\n",
        "    kmeans = KMeans(n_clusters=k, init=\"random\")\n",
        "    estimator=kmeans.fit(X)\n",
        "    # sum of squared distances\n",
        "    wcss = kmeans.inertia_\n",
        "    wcss_values.append(wcss)\n",
        "# Plot the elbow curve\n",
        "plt.plot(k_values, wcss_values, marker='o')\n",
        "plt.title('Elbow Curve')\n",
        "plt.xlabel('Number of Clusters (k)')\n",
        "plt.ylabel('Within-Cluster Sum of Squares (WCSS)')\n",
        "plt.xticks(k_values)\n",
        "plt.grid(True)\n",
        "plt.show()\n"
      ],
      "metadata": {
        "colab": {
          "base_uri": "https://localhost:8080/",
          "height": 472
        },
        "id": "ufWm7ZRT_551",
        "outputId": "ea6f49b5-266c-4b11-f21b-51ec489d3a35"
      },
      "execution_count": 11,
      "outputs": [
        {
          "output_type": "display_data",
          "data": {
            "text/plain": [
              "<Figure size 640x480 with 1 Axes>"
            ],
            "image/png": "[encoded data removed]"
          },
          "metadata": {}
        }
      ]
    },
    {
      "cell_type": "code",
      "source": [
        "def calculate_purity(labels_true, labels_pred):\n",
        "    # Initialize purity\n",
        "    purity = 0\n",
        "\n",
        "    # Loop through each cluster\n",
        "    for cluster in np.unique(labels_pred):\n",
        "        # Find the most frequent true label in the cluster\n",
        "        cluster_labels = labels_true[labels_pred == cluster]\n",
        "        majority_label = np.argmax(np.bincount(cluster_labels))\n",
        "\n",
        "        # Add the count of the majority label to purity\n",
        "        purity += np.sum(cluster_labels == majority_label)\n",
        "\n",
        "    # Normalize purity by the number of samples\n",
        "    purity /= len(labels_pred)\n",
        "\n",
        "    return purity\n",
        "def calculate_nmi(clusters,length,y):\n",
        "    h_y=0\n",
        "    _,counts = np.unique(y, return_counts=True)\n",
        "    # calculate the entropy for each rating value\n",
        "\n",
        "    for i in counts:\n",
        "        h_y=h_y-((i/y.shape[0])*np.log2(i/y.shape[0]))\n",
        "    h_c=0\n",
        "    for i in clusters:\n",
        "        h_c=h_c-((i.shape[0]/y.shape[0])*np.log2(i.shape[0]/y.shape[0]))\n",
        "    h_y_c=0\n",
        "    for i in clusters:\n",
        "        _,counts=np.unique(i,return_counts=True)\n",
        "        r=0\n",
        "        for j in counts:\n",
        "            r+=((j/i.shape[0])*np.log2(j/i.shape[0]))\n",
        "        h_y_c=h_y_c-((i.shape[0]/y.shape[0])*r)\n",
        "    nmi_val=(2*(h_y-h_y_c))/(h_y+h_c)\n",
        "    return nmi_val\n",
        "def rand_score(clusters,length):\n",
        "    tp_plus_fp=0\n",
        "    total=0\n",
        "    for i in clusters:\n",
        "        tp_plus_fp+=((i.shape[0])*(i.shape[0]-1))/2\n",
        "        total+=i.shape[0]\n",
        "    tp=0\n",
        "    cls=[]\n",
        "    cls_index=[]\n",
        "    for i in clusters:\n",
        "        _,counts = np.unique(i, return_counts=True)\n",
        "        for j in counts:\n",
        "            tp+=(j*(j-1))/2\n",
        "        cls_index.append(_)\n",
        "        cls.append(counts)\n",
        "    total=(total*(total-1))/2\n",
        "    fn=0\n",
        "    for i in range(len(cls)-1):\n",
        "        for j in range(i+1,len(cls)):\n",
        "            for k in cls_index[i]:\n",
        "                if k in cls_index[j]:\n",
        "                    fn+=cls[i][np.where(cls_index[i]==k)[0]]*cls[j][np.where(cls_index[j]==k)[0]]\n",
        "    tn=total-fn-tp_plus_fp\n",
        "    return (tp+tn)/total\n",
        "kmeans = KMeans(n_clusters=4, init=\"random\")\n",
        "kmeans.fit(X)\n",
        "pred_labels = kmeans.labels_\n",
        "# print(pred_labels)\n",
        "pred_clusters=[[],[],[],[]]\n",
        "for i in range(len(pred_labels)):\n",
        "    pred_clusters[pred_labels[i]].append(y[i])\n",
        "pred_clusters = [np.array(lst) for lst in pred_clusters]\n",
        "print(\"Purity: \",calculate_purity(y,pred_labels))\n",
        "print(\"Nmi: \",calculate_nmi(pred_clusters,len(pred_labels),y))\n",
        "print(\"Rand_Score: \",rand_score(pred_clusters,len(pred_labels)))"
      ],
      "metadata": {
        "colab": {
          "base_uri": "https://localhost:8080/"
        },
        "id": "TNXd7y4IDWyu",
        "outputId": "90a09708-9ae1-49b5-cae1-c9d0dea19dba"
      },
      "execution_count": 30,
      "outputs": [
        {
          "output_type": "stream",
          "name": "stdout",
          "text": [
            "Purity:  0.7082254979183077\n",
            "Nmi:  0.4621618040270677\n",
            "Rand_Score:  [0.72462186]\n"
          ]
        }
      ]
    }
  ],
  "metadata": {
    "colab": {
      "provenance": []
    },
    "kernelspec": {
      "display_name": "Python 3",
      "name": "python3"
    },
    "language_info": {
      "name": "python"
    }
  },
  "nbformat": 4,
  "nbformat_minor": 0
}