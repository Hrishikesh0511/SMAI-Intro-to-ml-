{
  "nbformat": 4,
  "nbformat_minor": 0,
  "metadata": {
    "colab": {
      "provenance": [],
      "gpuType": "T4"
    },
    "kernelspec": {
      "name": "python3",
      "display_name": "Python 3"
    },
    "language_info": {
      "name": "python"
    },
    "accelerator": "GPU"
  },
  "cells": [
    {
      "cell_type": "code",
      "execution_count": null,
      "metadata": {
        "id": "Us58lXi8MJz3"
      },
      "outputs": [],
      "source": [
        "import torch\n",
        "import torch.nn as nn\n",
        "import torch.optim as optim\n",
        "from torchvision import datasets, transforms\n",
        "import matplotlib.pyplot as plt\n",
        "from tqdm import tqdm"
      ]
    },
    {
      "cell_type": "code",
      "source": [
        "transform = transforms.ToTensor()\n",
        "mnist_data = datasets.MNIST(root = './data',train = True, transform = transform,download = True)\n",
        "data_loader  = torch.utils.data.DataLoader(dataset = mnist_data, batch_size = 64,shuffle =True)\n",
        "test_data = datasets.MNIST(root = './data',train = False, transform = transform,download = True)\n",
        "test_loader = torch.utils.data.DataLoader(dataset = test_data, batch_size = 64,shuffle  = False)"
      ],
      "metadata": {
        "id": "IE0rbW1HliHP",
        "colab": {
          "base_uri": "https://localhost:8080/"
        },
        "outputId": "ccc81a95-8201-40fc-f893-8077ffc6e6d2"
      },
      "execution_count": null,
      "outputs": [
        {
          "output_type": "stream",
          "name": "stdout",
          "text": [
            "Downloading http://yann.lecun.com/exdb/mnist/train-images-idx3-ubyte.gz\n",
            "Downloading http://yann.lecun.com/exdb/mnist/train-images-idx3-ubyte.gz to ./data/MNIST/raw/train-images-idx3-ubyte.gz\n"
          ]
        },
        {
          "output_type": "stream",
          "name": "stderr",
          "text": [
            "100%|██████████| 9912422/9912422 [00:00<00:00, 279342833.25it/s]"
          ]
        },
        {
          "output_type": "stream",
          "name": "stdout",
          "text": [
            "Extracting ./data/MNIST/raw/train-images-idx3-ubyte.gz to ./data/MNIST/raw\n"
          ]
        },
        {
          "output_type": "stream",
          "name": "stderr",
          "text": [
            "\n"
          ]
        },
        {
          "output_type": "stream",
          "name": "stdout",
          "text": [
            "\n",
            "Downloading http://yann.lecun.com/exdb/mnist/train-labels-idx1-ubyte.gz\n",
            "Downloading http://yann.lecun.com/exdb/mnist/train-labels-idx1-ubyte.gz to ./data/MNIST/raw/train-labels-idx1-ubyte.gz\n"
          ]
        },
        {
          "output_type": "stream",
          "name": "stderr",
          "text": [
            "100%|██████████| 28881/28881 [00:00<00:00, 31366052.26it/s]\n"
          ]
        },
        {
          "output_type": "stream",
          "name": "stdout",
          "text": [
            "Extracting ./data/MNIST/raw/train-labels-idx1-ubyte.gz to ./data/MNIST/raw\n",
            "\n",
            "Downloading http://yann.lecun.com/exdb/mnist/t10k-images-idx3-ubyte.gz\n",
            "Downloading http://yann.lecun.com/exdb/mnist/t10k-images-idx3-ubyte.gz to ./data/MNIST/raw/t10k-images-idx3-ubyte.gz\n"
          ]
        },
        {
          "output_type": "stream",
          "name": "stderr",
          "text": [
            "100%|██████████| 1648877/1648877 [00:00<00:00, 94125776.07it/s]"
          ]
        },
        {
          "output_type": "stream",
          "name": "stdout",
          "text": [
            "Extracting ./data/MNIST/raw/t10k-images-idx3-ubyte.gz to ./data/MNIST/raw\n"
          ]
        },
        {
          "output_type": "stream",
          "name": "stderr",
          "text": [
            "\n"
          ]
        },
        {
          "output_type": "stream",
          "name": "stdout",
          "text": [
            "\n",
            "Downloading http://yann.lecun.com/exdb/mnist/t10k-labels-idx1-ubyte.gz\n",
            "Downloading http://yann.lecun.com/exdb/mnist/t10k-labels-idx1-ubyte.gz to ./data/MNIST/raw/t10k-labels-idx1-ubyte.gz\n"
          ]
        },
        {
          "output_type": "stream",
          "name": "stderr",
          "text": [
            "100%|██████████| 4542/4542 [00:00<00:00, 14259377.82it/s]\n"
          ]
        },
        {
          "output_type": "stream",
          "name": "stdout",
          "text": [
            "Extracting ./data/MNIST/raw/t10k-labels-idx1-ubyte.gz to ./data/MNIST/raw\n",
            "\n"
          ]
        }
      ]
    },
    {
      "cell_type": "code",
      "source": [
        "data_iter = iter(data_loader)\n",
        "images, labels  = next(data_iter)\n",
        "print(torch.min(images),torch.max(images))"
      ],
      "metadata": {
        "id": "vpD66rq3HSOa",
        "colab": {
          "base_uri": "https://localhost:8080/"
        },
        "outputId": "a930e5b0-6cae-47ee-9efe-ddb03795d2df"
      },
      "execution_count": null,
      "outputs": [
        {
          "output_type": "stream",
          "name": "stdout",
          "text": [
            "tensor(0.) tensor(1.)\n"
          ]
        }
      ]
    },
    {
      "cell_type": "code",
      "source": [
        "class Autoencoder(nn.Module):\n",
        "    def __init__(self,bottleneck = 64):\n",
        "        super().__init__()\n",
        "        self.encoder = nn.Sequential(\n",
        "            nn.Conv2d(1, 16, kernel_size = 3, stride = 2, padding = 1), # 16 channels 14 * 14\n",
        "            nn.ReLU(),\n",
        "            nn.Conv2d(16, 32, kernel_size = 3, stride = 2, padding = 1), # 32 channels 7 * 7\n",
        "            nn.ReLU(),\n",
        "            nn.Conv2d(32, bottleneck, 7)                                         # 64 channels 1 * 1\n",
        "        )\n",
        "        self.decoder = nn.Sequential(\n",
        "            nn.ConvTranspose2d(bottleneck, 32, 7),\n",
        "            nn.ReLU(),\n",
        "            nn.ConvTranspose2d(32, 16,kernel_size = 3, stride = 2, padding = 1, output_padding = 1),\n",
        "            nn.ReLU(),\n",
        "            nn.ConvTranspose2d(16, 1, kernel_size = 3, stride  = 2, padding = 1, output_padding = 1),\n",
        "            nn.Sigmoid()\n",
        "        )\n",
        "    def forward(self, x):\n",
        "        encoded = self.encoder(x)\n",
        "        decoded = self.decoder(encoded)\n",
        "        return decoded"
      ],
      "metadata": {
        "id": "k1TnPNi0VyAA"
      },
      "execution_count": null,
      "outputs": []
    },
    {
      "cell_type": "code",
      "source": [
        "def add_gaussian_noise(image_tensor,stddev=0.4):\n",
        "    noise = torch.randn_like(image_tensor) * stddev\n",
        "    noisy_image = image_tensor + noise\n",
        "    noisy_image = torch.clamp(noisy_image, 0, 1)\n",
        "    return noisy_image"
      ],
      "metadata": {
        "id": "5mIRUE3SK5Nr"
      },
      "execution_count": null,
      "outputs": []
    },
    {
      "cell_type": "code",
      "source": [
        "orig_imgs = [img for (img,_) in data_loader]\n",
        "device = torch.device(\"cuda\" if torch.cuda.is_available() else \"cpu\")"
      ],
      "metadata": {
        "id": "znTxLHeKQRtf"
      },
      "execution_count": null,
      "outputs": []
    },
    {
      "cell_type": "code",
      "source": [
        "\n",
        "def train(orig_imgs,sigma=0.4,bottleneck=64):\n",
        "    noisy_images_list=[]\n",
        "    for images in orig_imgs:\n",
        "        noisy_images = add_gaussian_noise(images,stddev = sigma)\n",
        "        noisy_images_list.append(noisy_images)\n",
        "    model = Autoencoder(bottleneck).to(device)\n",
        "    noisy_images_list = [torch.tensor(noisy_img, device=device) for noisy_img in noisy_images_list]\n",
        "    orig_imgs = [torch.tensor(orig_img, device=device) for orig_img in orig_imgs]\n",
        "\n",
        "    criterion = nn.MSELoss()\n",
        "    optimizer = optim.Adam(model.parameters(), lr=1e-3)\n",
        "\n",
        "    num_epochs = 10\n",
        "    # outputs = []\n",
        "\n",
        "    for epoch in tqdm(range(num_epochs)):\n",
        "        for noisy_img, orig_img in zip(noisy_images_list, orig_imgs):\n",
        "            reconstructed = model(noisy_img)\n",
        "            loss = criterion(reconstructed, orig_img)\n",
        "\n",
        "            optimizer.zero_grad()\n",
        "            loss.backward()\n",
        "            optimizer.step()\n",
        "            # if(epoch == 9):\n",
        "            #     outputs.append((orig_img, reconstructed))\n",
        "        print(f'Epoch:{epoch+1}, Loss:{loss.item():.4f}')\n",
        "    return model"
      ],
      "metadata": {
        "id": "K44ocfozMEkK"
      },
      "execution_count": null,
      "outputs": []
    },
    {
      "cell_type": "code",
      "source": [
        "from skimage.metrics import structural_similarity as ssim\n",
        "import numpy as np\n",
        "# SSIM calculation function\n",
        "def calculate_ssim(image1, image2):\n",
        "    image1 = image1.cpu().numpy().astype(np.float32)\n",
        "    image2 = image2.cpu().numpy().astype(np.float32)\n",
        "    ssim_sum = 0\n",
        "    # print(image1.shape)\n",
        "    for i in range(image1.shape[0]):\n",
        "        ssim_sum += ssim(image1[i, 0], image2[i, 0], data_range=1)\n",
        "    return ssim_sum / (image1.shape[0])"
      ],
      "metadata": {
        "id": "AmikODZeEHIs"
      },
      "execution_count": null,
      "outputs": []
    },
    {
      "cell_type": "code",
      "source": [
        "def test_model(model, test_loader,sigma=0.4):\n",
        "    model.eval()\n",
        "    total_ssim = 0\n",
        "    with torch.no_grad():\n",
        "        for images, _ in test_loader:\n",
        "            images = images.to(device)  # Move images to GPU\n",
        "            noisy_images = add_gaussian_noise(images, stddev = sigma)\n",
        "            outputs = model(noisy_images)\n",
        "            total_ssim += calculate_ssim(outputs, images)\n",
        "    return total_ssim / len(test_loader)"
      ],
      "metadata": {
        "id": "1CCgr3JVKdDL"
      },
      "execution_count": null,
      "outputs": []
    },
    {
      "cell_type": "code",
      "source": [
        "sigmas = [0.1,0.4,0.8]\n",
        "ssim_scores=[]\n",
        "for sigma in sigmas:\n",
        "    model = train(orig_imgs,sigma)\n",
        "\n",
        "    model = model.to(device)\n",
        "\n",
        "    ssim_score = test_model(model, test_loader,sigma)\n",
        "    print(f'Average SSIM score: {ssim_score:.4f}')\n",
        "    ssim_scores.append(ssim_score)"
      ],
      "metadata": {
        "colab": {
          "base_uri": "https://localhost:8080/"
        },
        "id": "0cJy8ebiPLlI",
        "outputId": "aa1838d1-d8ea-4d6b-a641-88dcb8486e88"
      },
      "execution_count": null,
      "outputs": [
        {
          "metadata": {
            "tags": null
          },
          "name": "stderr",
          "output_type": "stream",
          "text": [
            "<ipython-input-17-2d6d6a589845>:7: UserWarning: To copy construct from a tensor, it is recommended to use sourceTensor.clone().detach() or sourceTensor.clone().detach().requires_grad_(True), rather than torch.tensor(sourceTensor).\n",
            "  noisy_images_list = [torch.tensor(noisy_img, device=device) for noisy_img in noisy_images_list]\n",
            "<ipython-input-17-2d6d6a589845>:8: UserWarning: To copy construct from a tensor, it is recommended to use sourceTensor.clone().detach() or sourceTensor.clone().detach().requires_grad_(True), rather than torch.tensor(sourceTensor).\n",
            "  orig_imgs = [torch.tensor(orig_img, device=device) for orig_img in orig_imgs]\n",
            " 10%|█         | 1/10 [00:36<05:30, 36.69s/it]"
          ]
        },
        {
          "metadata": {
            "tags": null
          },
          "name": "stdout",
          "output_type": "stream",
          "text": [
            "Epoch:1, Loss:0.0126\n"
          ]
        },
        {
          "metadata": {
            "tags": null
          },
          "name": "stderr",
          "output_type": "stream",
          "text": [
            "\r 20%|██        | 2/10 [01:08<04:30, 33.77s/it]"
          ]
        },
        {
          "metadata": {
            "tags": null
          },
          "name": "stdout",
          "output_type": "stream",
          "text": [
            "Epoch:2, Loss:0.0069\n"
          ]
        },
        {
          "metadata": {
            "tags": null
          },
          "name": "stderr",
          "output_type": "stream",
          "text": [
            "\r 30%|███       | 3/10 [01:41<03:53, 33.43s/it]"
          ]
        },
        {
          "metadata": {
            "tags": null
          },
          "name": "stdout",
          "output_type": "stream",
          "text": [
            "Epoch:3, Loss:0.0054\n"
          ]
        },
        {
          "metadata": {
            "tags": null
          },
          "name": "stderr",
          "output_type": "stream",
          "text": [
            "\r 40%|████      | 4/10 [02:13<03:17, 32.99s/it]"
          ]
        },
        {
          "metadata": {
            "tags": null
          },
          "name": "stdout",
          "output_type": "stream",
          "text": [
            "Epoch:4, Loss:0.0046\n"
          ]
        },
        {
          "metadata": {
            "tags": null
          },
          "name": "stderr",
          "output_type": "stream",
          "text": [
            "\r 50%|█████     | 5/10 [02:47<02:46, 33.27s/it]"
          ]
        },
        {
          "metadata": {
            "tags": null
          },
          "name": "stdout",
          "output_type": "stream",
          "text": [
            "Epoch:5, Loss:0.0042\n"
          ]
        },
        {
          "metadata": {
            "tags": null
          },
          "name": "stderr",
          "output_type": "stream",
          "text": [
            "\r 60%|██████    | 6/10 [03:20<02:12, 33.22s/it]"
          ]
        },
        {
          "metadata": {
            "tags": null
          },
          "name": "stdout",
          "output_type": "stream",
          "text": [
            "Epoch:6, Loss:0.0039\n"
          ]
        },
        {
          "metadata": {
            "tags": null
          },
          "name": "stderr",
          "output_type": "stream",
          "text": [
            "\r 70%|███████   | 7/10 [03:54<01:40, 33.34s/it]"
          ]
        },
        {
          "metadata": {
            "tags": null
          },
          "name": "stdout",
          "output_type": "stream",
          "text": [
            "Epoch:7, Loss:0.0037\n"
          ]
        },
        {
          "metadata": {
            "tags": null
          },
          "name": "stderr",
          "output_type": "stream",
          "text": [
            "\r 80%|████████  | 8/10 [04:26<01:06, 33.13s/it]"
          ]
        },
        {
          "metadata": {
            "tags": null
          },
          "name": "stdout",
          "output_type": "stream",
          "text": [
            "Epoch:8, Loss:0.0035\n"
          ]
        },
        {
          "metadata": {
            "tags": null
          },
          "name": "stderr",
          "output_type": "stream",
          "text": [
            "\r 90%|█████████ | 9/10 [04:59<00:33, 33.03s/it]"
          ]
        },
        {
          "metadata": {
            "tags": null
          },
          "name": "stdout",
          "output_type": "stream",
          "text": [
            "Epoch:9, Loss:0.0033\n"
          ]
        },
        {
          "metadata": {
            "tags": null
          },
          "name": "stderr",
          "output_type": "stream",
          "text": [
            "100%|██████████| 10/10 [05:32<00:00, 33.25s/it]"
          ]
        },
        {
          "metadata": {
            "tags": null
          },
          "name": "stdout",
          "output_type": "stream",
          "text": [
            "Epoch:10, Loss:0.0032\n",
            "(64, 1, 28, 28)\n",
            "(64, 1, 28, 28)\n",
            "(64, 1, 28, 28)\n",
            "(64, 1, 28, 28)\n"
          ]
        },
        {
          "metadata": {
            "tags": null
          },
          "name": "stderr",
          "output_type": "stream",
          "text": [
            "\n"
          ]
        },
        {
          "metadata": {
            "tags": null
          },
          "name": "stdout",
          "output_type": "stream",
          "text": [
            "(64, 1, 28, 28)\n",
            "(64, 1, 28, 28)\n",
            "(64, 1, 28, 28)\n",
            "(64, 1, 28, 28)\n",
            "(64, 1, 28, 28)\n",
            "(64, 1, 28, 28)\n",
            "(64, 1, 28, 28)\n",
            "(64, 1, 28, 28)\n",
            "(64, 1, 28, 28)\n",
            "(64, 1, 28, 28)\n",
            "(64, 1, 28, 28)\n",
            "(64, 1, 28, 28)\n",
            "(64, 1, 28, 28)\n",
            "(64, 1, 28, 28)\n",
            "(64, 1, 28, 28)\n",
            "(64, 1, 28, 28)\n",
            "(64, 1, 28, 28)\n",
            "(64, 1, 28, 28)\n",
            "(64, 1, 28, 28)\n",
            "(64, 1, 28, 28)\n",
            "(64, 1, 28, 28)\n",
            "(64, 1, 28, 28)\n",
            "(64, 1, 28, 28)\n",
            "(64, 1, 28, 28)\n",
            "(64, 1, 28, 28)\n",
            "(64, 1, 28, 28)\n",
            "(64, 1, 28, 28)\n",
            "(64, 1, 28, 28)\n",
            "(64, 1, 28, 28)\n",
            "(64, 1, 28, 28)\n",
            "(64, 1, 28, 28)\n",
            "(64, 1, 28, 28)\n",
            "(64, 1, 28, 28)\n",
            "(64, 1, 28, 28)\n",
            "(64, 1, 28, 28)\n",
            "(64, 1, 28, 28)\n",
            "(64, 1, 28, 28)\n",
            "(64, 1, 28, 28)\n",
            "(64, 1, 28, 28)\n",
            "(64, 1, 28, 28)\n",
            "(64, 1, 28, 28)\n",
            "(64, 1, 28, 28)\n",
            "(64, 1, 28, 28)\n",
            "(64, 1, 28, 28)\n",
            "(64, 1, 28, 28)\n",
            "(64, 1, 28, 28)\n",
            "(64, 1, 28, 28)\n",
            "(64, 1, 28, 28)\n",
            "(64, 1, 28, 28)\n",
            "(64, 1, 28, 28)\n",
            "(64, 1, 28, 28)\n",
            "(64, 1, 28, 28)\n",
            "(64, 1, 28, 28)\n",
            "(64, 1, 28, 28)\n",
            "(64, 1, 28, 28)\n",
            "(64, 1, 28, 28)\n",
            "(64, 1, 28, 28)\n",
            "(64, 1, 28, 28)\n",
            "(64, 1, 28, 28)\n",
            "(64, 1, 28, 28)\n",
            "(64, 1, 28, 28)\n",
            "(64, 1, 28, 28)\n",
            "(64, 1, 28, 28)\n",
            "(64, 1, 28, 28)\n",
            "(64, 1, 28, 28)\n",
            "(64, 1, 28, 28)\n",
            "(64, 1, 28, 28)\n",
            "(64, 1, 28, 28)\n",
            "(64, 1, 28, 28)\n",
            "(64, 1, 28, 28)\n",
            "(64, 1, 28, 28)\n",
            "(64, 1, 28, 28)\n",
            "(64, 1, 28, 28)\n",
            "(64, 1, 28, 28)\n",
            "(64, 1, 28, 28)\n",
            "(64, 1, 28, 28)\n",
            "(64, 1, 28, 28)\n",
            "(64, 1, 28, 28)\n",
            "(64, 1, 28, 28)\n",
            "(64, 1, 28, 28)\n",
            "(64, 1, 28, 28)\n",
            "(64, 1, 28, 28)\n",
            "(64, 1, 28, 28)\n",
            "(64, 1, 28, 28)\n",
            "(64, 1, 28, 28)\n",
            "(64, 1, 28, 28)\n",
            "(64, 1, 28, 28)\n",
            "(64, 1, 28, 28)\n",
            "(64, 1, 28, 28)\n",
            "(64, 1, 28, 28)\n",
            "(64, 1, 28, 28)\n",
            "(64, 1, 28, 28)\n",
            "(64, 1, 28, 28)\n",
            "(64, 1, 28, 28)\n",
            "(64, 1, 28, 28)\n",
            "(64, 1, 28, 28)\n",
            "(64, 1, 28, 28)\n",
            "(64, 1, 28, 28)\n",
            "(64, 1, 28, 28)\n",
            "(64, 1, 28, 28)\n",
            "(64, 1, 28, 28)\n",
            "(64, 1, 28, 28)\n",
            "(64, 1, 28, 28)\n",
            "(64, 1, 28, 28)\n",
            "(64, 1, 28, 28)\n",
            "(64, 1, 28, 28)\n",
            "(64, 1, 28, 28)\n",
            "(64, 1, 28, 28)\n",
            "(64, 1, 28, 28)\n",
            "(64, 1, 28, 28)\n",
            "(64, 1, 28, 28)\n",
            "(64, 1, 28, 28)\n",
            "(64, 1, 28, 28)\n",
            "(64, 1, 28, 28)\n",
            "(64, 1, 28, 28)\n",
            "(64, 1, 28, 28)\n",
            "(64, 1, 28, 28)\n",
            "(64, 1, 28, 28)\n",
            "(64, 1, 28, 28)\n",
            "(64, 1, 28, 28)\n",
            "(64, 1, 28, 28)\n",
            "(64, 1, 28, 28)\n",
            "(64, 1, 28, 28)\n",
            "(64, 1, 28, 28)\n",
            "(64, 1, 28, 28)\n",
            "(64, 1, 28, 28)\n",
            "(64, 1, 28, 28)\n",
            "(64, 1, 28, 28)\n",
            "(64, 1, 28, 28)\n",
            "(64, 1, 28, 28)\n",
            "(64, 1, 28, 28)\n",
            "(64, 1, 28, 28)\n",
            "(64, 1, 28, 28)\n",
            "(64, 1, 28, 28)\n",
            "(64, 1, 28, 28)\n",
            "(64, 1, 28, 28)\n",
            "(64, 1, 28, 28)\n",
            "(64, 1, 28, 28)\n",
            "(64, 1, 28, 28)\n",
            "(64, 1, 28, 28)\n",
            "(64, 1, 28, 28)\n",
            "(64, 1, 28, 28)\n",
            "(64, 1, 28, 28)\n",
            "(64, 1, 28, 28)\n",
            "(64, 1, 28, 28)\n",
            "(64, 1, 28, 28)\n",
            "(64, 1, 28, 28)\n",
            "(64, 1, 28, 28)\n",
            "(64, 1, 28, 28)\n",
            "(64, 1, 28, 28)\n",
            "(64, 1, 28, 28)\n",
            "(64, 1, 28, 28)\n",
            "(16, 1, 28, 28)\n",
            "Average SSIM score: 0.9651\n"
          ]
        },
        {
          "metadata": {
            "tags": null
          },
          "name": "stderr",
          "output_type": "stream",
          "text": [
            " 10%|█         | 1/10 [00:31<04:42, 31.35s/it]"
          ]
        },
        {
          "metadata": {
            "tags": null
          },
          "name": "stdout",
          "output_type": "stream",
          "text": [
            "Epoch:1, Loss:0.0192\n"
          ]
        },
        {
          "metadata": {
            "tags": null
          },
          "name": "stderr",
          "output_type": "stream",
          "text": [
            "\r 20%|██        | 2/10 [01:03<04:15, 31.97s/it]"
          ]
        },
        {
          "metadata": {
            "tags": null
          },
          "name": "stdout",
          "output_type": "stream",
          "text": [
            "Epoch:2, Loss:0.0132\n"
          ]
        },
        {
          "metadata": {
            "tags": null
          },
          "name": "stderr",
          "output_type": "stream",
          "text": [
            "\r 30%|███       | 3/10 [01:35<03:43, 31.90s/it]"
          ]
        },
        {
          "metadata": {
            "tags": null
          },
          "name": "stdout",
          "output_type": "stream",
          "text": [
            "Epoch:3, Loss:0.0112\n"
          ]
        },
        {
          "metadata": {
            "tags": null
          },
          "name": "stderr",
          "output_type": "stream",
          "text": [
            "\r 40%|████      | 4/10 [02:08<03:13, 32.18s/it]"
          ]
        },
        {
          "metadata": {
            "tags": null
          },
          "name": "stdout",
          "output_type": "stream",
          "text": [
            "Epoch:4, Loss:0.0102\n"
          ]
        },
        {
          "metadata": {
            "tags": null
          },
          "name": "stderr",
          "output_type": "stream",
          "text": [
            "\r 50%|█████     | 5/10 [02:39<02:40, 32.04s/it]"
          ]
        },
        {
          "metadata": {
            "tags": null
          },
          "name": "stdout",
          "output_type": "stream",
          "text": [
            "Epoch:5, Loss:0.0097\n"
          ]
        },
        {
          "output_type": "stream",
          "name": "stderr",
          "text": [
            "\r 60%|██████    | 6/10 [03:13<02:09, 32.50s/it]"
          ]
        },
        {
          "output_type": "stream",
          "name": "stdout",
          "text": [
            "Epoch:6, Loss:0.0093\n"
          ]
        },
        {
          "output_type": "stream",
          "name": "stderr",
          "text": [
            "\r 70%|███████   | 7/10 [03:45<01:37, 32.34s/it]"
          ]
        },
        {
          "output_type": "stream",
          "name": "stdout",
          "text": [
            "Epoch:7, Loss:0.0089\n"
          ]
        },
        {
          "output_type": "stream",
          "name": "stderr",
          "text": [
            "\r 80%|████████  | 8/10 [04:17<01:04, 32.13s/it]"
          ]
        },
        {
          "output_type": "stream",
          "name": "stdout",
          "text": [
            "Epoch:8, Loss:0.0086\n"
          ]
        },
        {
          "output_type": "stream",
          "name": "stderr",
          "text": [
            "\r 90%|█████████ | 9/10 [04:49<00:32, 32.28s/it]"
          ]
        },
        {
          "output_type": "stream",
          "name": "stdout",
          "text": [
            "Epoch:9, Loss:0.0084\n"
          ]
        },
        {
          "output_type": "stream",
          "name": "stderr",
          "text": [
            "100%|██████████| 10/10 [05:21<00:00, 32.16s/it]"
          ]
        },
        {
          "output_type": "stream",
          "name": "stdout",
          "text": [
            "Epoch:10, Loss:0.0082\n",
            "(64, 1, 28, 28)\n",
            "(64, 1, 28, 28)\n",
            "(64, 1, 28, 28)\n",
            "(64, 1, 28, 28)\n"
          ]
        },
        {
          "output_type": "stream",
          "name": "stderr",
          "text": [
            "\n"
          ]
        },
        {
          "output_type": "stream",
          "name": "stdout",
          "text": [
            "(64, 1, 28, 28)\n",
            "(64, 1, 28, 28)\n",
            "(64, 1, 28, 28)\n",
            "(64, 1, 28, 28)\n",
            "(64, 1, 28, 28)\n",
            "(64, 1, 28, 28)\n",
            "(64, 1, 28, 28)\n",
            "(64, 1, 28, 28)\n",
            "(64, 1, 28, 28)\n",
            "(64, 1, 28, 28)\n",
            "(64, 1, 28, 28)\n",
            "(64, 1, 28, 28)\n",
            "(64, 1, 28, 28)\n",
            "(64, 1, 28, 28)\n",
            "(64, 1, 28, 28)\n",
            "(64, 1, 28, 28)\n",
            "(64, 1, 28, 28)\n",
            "(64, 1, 28, 28)\n",
            "(64, 1, 28, 28)\n",
            "(64, 1, 28, 28)\n",
            "(64, 1, 28, 28)\n",
            "(64, 1, 28, 28)\n",
            "(64, 1, 28, 28)\n",
            "(64, 1, 28, 28)\n",
            "(64, 1, 28, 28)\n",
            "(64, 1, 28, 28)\n",
            "(64, 1, 28, 28)\n",
            "(64, 1, 28, 28)\n",
            "(64, 1, 28, 28)\n",
            "(64, 1, 28, 28)\n",
            "(64, 1, 28, 28)\n",
            "(64, 1, 28, 28)\n",
            "(64, 1, 28, 28)\n",
            "(64, 1, 28, 28)\n",
            "(64, 1, 28, 28)\n",
            "(64, 1, 28, 28)\n",
            "(64, 1, 28, 28)\n",
            "(64, 1, 28, 28)\n",
            "(64, 1, 28, 28)\n",
            "(64, 1, 28, 28)\n",
            "(64, 1, 28, 28)\n",
            "(64, 1, 28, 28)\n",
            "(64, 1, 28, 28)\n",
            "(64, 1, 28, 28)\n",
            "(64, 1, 28, 28)\n",
            "(64, 1, 28, 28)\n",
            "(64, 1, 28, 28)\n",
            "(64, 1, 28, 28)\n",
            "(64, 1, 28, 28)\n",
            "(64, 1, 28, 28)\n",
            "(64, 1, 28, 28)\n",
            "(64, 1, 28, 28)\n",
            "(64, 1, 28, 28)\n",
            "(64, 1, 28, 28)\n",
            "(64, 1, 28, 28)\n",
            "(64, 1, 28, 28)\n",
            "(64, 1, 28, 28)\n",
            "(64, 1, 28, 28)\n",
            "(64, 1, 28, 28)\n",
            "(64, 1, 28, 28)\n",
            "(64, 1, 28, 28)\n",
            "(64, 1, 28, 28)\n",
            "(64, 1, 28, 28)\n",
            "(64, 1, 28, 28)\n",
            "(64, 1, 28, 28)\n",
            "(64, 1, 28, 28)\n",
            "(64, 1, 28, 28)\n",
            "(64, 1, 28, 28)\n",
            "(64, 1, 28, 28)\n",
            "(64, 1, 28, 28)\n",
            "(64, 1, 28, 28)\n",
            "(64, 1, 28, 28)\n",
            "(64, 1, 28, 28)\n",
            "(64, 1, 28, 28)\n",
            "(64, 1, 28, 28)\n",
            "(64, 1, 28, 28)\n",
            "(64, 1, 28, 28)\n",
            "(64, 1, 28, 28)\n",
            "(64, 1, 28, 28)\n",
            "(64, 1, 28, 28)\n",
            "(64, 1, 28, 28)\n",
            "(64, 1, 28, 28)\n",
            "(64, 1, 28, 28)\n",
            "(64, 1, 28, 28)\n",
            "(64, 1, 28, 28)\n",
            "(64, 1, 28, 28)\n",
            "(64, 1, 28, 28)\n",
            "(64, 1, 28, 28)\n",
            "(64, 1, 28, 28)\n",
            "(64, 1, 28, 28)\n",
            "(64, 1, 28, 28)\n",
            "(64, 1, 28, 28)\n",
            "(64, 1, 28, 28)\n",
            "(64, 1, 28, 28)\n",
            "(64, 1, 28, 28)\n",
            "(64, 1, 28, 28)\n",
            "(64, 1, 28, 28)\n",
            "(64, 1, 28, 28)\n",
            "(64, 1, 28, 28)\n",
            "(64, 1, 28, 28)\n",
            "(64, 1, 28, 28)\n",
            "(64, 1, 28, 28)\n",
            "(64, 1, 28, 28)\n",
            "(64, 1, 28, 28)\n",
            "(64, 1, 28, 28)\n",
            "(64, 1, 28, 28)\n",
            "(64, 1, 28, 28)\n",
            "(64, 1, 28, 28)\n",
            "(64, 1, 28, 28)\n",
            "(64, 1, 28, 28)\n",
            "(64, 1, 28, 28)\n",
            "(64, 1, 28, 28)\n",
            "(64, 1, 28, 28)\n",
            "(64, 1, 28, 28)\n",
            "(64, 1, 28, 28)\n",
            "(64, 1, 28, 28)\n",
            "(64, 1, 28, 28)\n",
            "(64, 1, 28, 28)\n",
            "(64, 1, 28, 28)\n",
            "(64, 1, 28, 28)\n",
            "(64, 1, 28, 28)\n",
            "(64, 1, 28, 28)\n",
            "(64, 1, 28, 28)\n",
            "(64, 1, 28, 28)\n",
            "(64, 1, 28, 28)\n",
            "(64, 1, 28, 28)\n",
            "(64, 1, 28, 28)\n",
            "(64, 1, 28, 28)\n",
            "(64, 1, 28, 28)\n",
            "(64, 1, 28, 28)\n",
            "(64, 1, 28, 28)\n",
            "(64, 1, 28, 28)\n",
            "(64, 1, 28, 28)\n",
            "(64, 1, 28, 28)\n",
            "(64, 1, 28, 28)\n",
            "(64, 1, 28, 28)\n",
            "(64, 1, 28, 28)\n",
            "(64, 1, 28, 28)\n",
            "(64, 1, 28, 28)\n",
            "(64, 1, 28, 28)\n",
            "(64, 1, 28, 28)\n",
            "(64, 1, 28, 28)\n",
            "(64, 1, 28, 28)\n",
            "(64, 1, 28, 28)\n",
            "(64, 1, 28, 28)\n",
            "(64, 1, 28, 28)\n",
            "(64, 1, 28, 28)\n",
            "(64, 1, 28, 28)\n",
            "(64, 1, 28, 28)\n",
            "(64, 1, 28, 28)\n",
            "(64, 1, 28, 28)\n",
            "(64, 1, 28, 28)\n",
            "(16, 1, 28, 28)\n",
            "Average SSIM score: 0.8968\n"
          ]
        },
        {
          "output_type": "stream",
          "name": "stderr",
          "text": [
            " 10%|█         | 1/10 [00:31<04:41, 31.23s/it]"
          ]
        },
        {
          "output_type": "stream",
          "name": "stdout",
          "text": [
            "Epoch:1, Loss:0.0327\n"
          ]
        },
        {
          "output_type": "stream",
          "name": "stderr",
          "text": [
            "\r 20%|██        | 2/10 [01:03<04:12, 31.61s/it]"
          ]
        },
        {
          "output_type": "stream",
          "name": "stdout",
          "text": [
            "Epoch:2, Loss:0.0257\n"
          ]
        },
        {
          "output_type": "stream",
          "name": "stderr",
          "text": [
            "\r 30%|███       | 3/10 [01:34<03:40, 31.45s/it]"
          ]
        },
        {
          "output_type": "stream",
          "name": "stdout",
          "text": [
            "Epoch:3, Loss:0.0237\n"
          ]
        },
        {
          "output_type": "stream",
          "name": "stderr",
          "text": [
            "\r 40%|████      | 4/10 [02:07<03:12, 32.12s/it]"
          ]
        },
        {
          "output_type": "stream",
          "name": "stdout",
          "text": [
            "Epoch:4, Loss:0.0228\n"
          ]
        },
        {
          "output_type": "stream",
          "name": "stderr",
          "text": [
            "\r 50%|█████     | 5/10 [02:39<02:40, 32.16s/it]"
          ]
        },
        {
          "output_type": "stream",
          "name": "stdout",
          "text": [
            "Epoch:5, Loss:0.0220\n"
          ]
        },
        {
          "output_type": "stream",
          "name": "stderr",
          "text": [
            "\r 60%|██████    | 6/10 [03:12<02:09, 32.29s/it]"
          ]
        },
        {
          "output_type": "stream",
          "name": "stdout",
          "text": [
            "Epoch:6, Loss:0.0215\n"
          ]
        },
        {
          "output_type": "stream",
          "name": "stderr",
          "text": [
            "\r 70%|███████   | 7/10 [03:47<01:40, 33.38s/it]"
          ]
        },
        {
          "output_type": "stream",
          "name": "stdout",
          "text": [
            "Epoch:7, Loss:0.0211\n"
          ]
        },
        {
          "output_type": "stream",
          "name": "stderr",
          "text": [
            "\r 80%|████████  | 8/10 [04:22<01:07, 33.74s/it]"
          ]
        },
        {
          "output_type": "stream",
          "name": "stdout",
          "text": [
            "Epoch:8, Loss:0.0208\n"
          ]
        },
        {
          "output_type": "stream",
          "name": "stderr",
          "text": [
            "\r 90%|█████████ | 9/10 [04:55<00:33, 33.54s/it]"
          ]
        },
        {
          "output_type": "stream",
          "name": "stdout",
          "text": [
            "Epoch:9, Loss:0.0205\n"
          ]
        },
        {
          "output_type": "stream",
          "name": "stderr",
          "text": [
            "100%|██████████| 10/10 [05:29<00:00, 32.96s/it]"
          ]
        },
        {
          "output_type": "stream",
          "name": "stdout",
          "text": [
            "Epoch:10, Loss:0.0201\n",
            "(64, 1, 28, 28)\n",
            "(64, 1, 28, 28)\n",
            "(64, 1, 28, 28)\n",
            "(64, 1, 28, 28)\n"
          ]
        },
        {
          "output_type": "stream",
          "name": "stderr",
          "text": [
            "\n"
          ]
        },
        {
          "output_type": "stream",
          "name": "stdout",
          "text": [
            "(64, 1, 28, 28)\n",
            "(64, 1, 28, 28)\n",
            "(64, 1, 28, 28)\n",
            "(64, 1, 28, 28)\n",
            "(64, 1, 28, 28)\n",
            "(64, 1, 28, 28)\n",
            "(64, 1, 28, 28)\n",
            "(64, 1, 28, 28)\n",
            "(64, 1, 28, 28)\n",
            "(64, 1, 28, 28)\n",
            "(64, 1, 28, 28)\n",
            "(64, 1, 28, 28)\n",
            "(64, 1, 28, 28)\n",
            "(64, 1, 28, 28)\n",
            "(64, 1, 28, 28)\n",
            "(64, 1, 28, 28)\n",
            "(64, 1, 28, 28)\n",
            "(64, 1, 28, 28)\n",
            "(64, 1, 28, 28)\n",
            "(64, 1, 28, 28)\n",
            "(64, 1, 28, 28)\n",
            "(64, 1, 28, 28)\n",
            "(64, 1, 28, 28)\n",
            "(64, 1, 28, 28)\n",
            "(64, 1, 28, 28)\n",
            "(64, 1, 28, 28)\n",
            "(64, 1, 28, 28)\n",
            "(64, 1, 28, 28)\n",
            "(64, 1, 28, 28)\n",
            "(64, 1, 28, 28)\n",
            "(64, 1, 28, 28)\n",
            "(64, 1, 28, 28)\n",
            "(64, 1, 28, 28)\n",
            "(64, 1, 28, 28)\n",
            "(64, 1, 28, 28)\n",
            "(64, 1, 28, 28)\n",
            "(64, 1, 28, 28)\n",
            "(64, 1, 28, 28)\n",
            "(64, 1, 28, 28)\n",
            "(64, 1, 28, 28)\n",
            "(64, 1, 28, 28)\n",
            "(64, 1, 28, 28)\n",
            "(64, 1, 28, 28)\n",
            "(64, 1, 28, 28)\n",
            "(64, 1, 28, 28)\n",
            "(64, 1, 28, 28)\n",
            "(64, 1, 28, 28)\n",
            "(64, 1, 28, 28)\n",
            "(64, 1, 28, 28)\n",
            "(64, 1, 28, 28)\n",
            "(64, 1, 28, 28)\n",
            "(64, 1, 28, 28)\n",
            "(64, 1, 28, 28)\n",
            "(64, 1, 28, 28)\n",
            "(64, 1, 28, 28)\n",
            "(64, 1, 28, 28)\n",
            "(64, 1, 28, 28)\n",
            "(64, 1, 28, 28)\n",
            "(64, 1, 28, 28)\n",
            "(64, 1, 28, 28)\n",
            "(64, 1, 28, 28)\n",
            "(64, 1, 28, 28)\n",
            "(64, 1, 28, 28)\n",
            "(64, 1, 28, 28)\n",
            "(64, 1, 28, 28)\n",
            "(64, 1, 28, 28)\n",
            "(64, 1, 28, 28)\n",
            "(64, 1, 28, 28)\n",
            "(64, 1, 28, 28)\n",
            "(64, 1, 28, 28)\n",
            "(64, 1, 28, 28)\n",
            "(64, 1, 28, 28)\n",
            "(64, 1, 28, 28)\n",
            "(64, 1, 28, 28)\n",
            "(64, 1, 28, 28)\n",
            "(64, 1, 28, 28)\n",
            "(64, 1, 28, 28)\n",
            "(64, 1, 28, 28)\n",
            "(64, 1, 28, 28)\n",
            "(64, 1, 28, 28)\n",
            "(64, 1, 28, 28)\n",
            "(64, 1, 28, 28)\n",
            "(64, 1, 28, 28)\n",
            "(64, 1, 28, 28)\n",
            "(64, 1, 28, 28)\n",
            "(64, 1, 28, 28)\n",
            "(64, 1, 28, 28)\n",
            "(64, 1, 28, 28)\n",
            "(64, 1, 28, 28)\n",
            "(64, 1, 28, 28)\n",
            "(64, 1, 28, 28)\n",
            "(64, 1, 28, 28)\n",
            "(64, 1, 28, 28)\n",
            "(64, 1, 28, 28)\n",
            "(64, 1, 28, 28)\n",
            "(64, 1, 28, 28)\n",
            "(64, 1, 28, 28)\n",
            "(64, 1, 28, 28)\n",
            "(64, 1, 28, 28)\n",
            "(64, 1, 28, 28)\n",
            "(64, 1, 28, 28)\n",
            "(64, 1, 28, 28)\n",
            "(64, 1, 28, 28)\n",
            "(64, 1, 28, 28)\n",
            "(64, 1, 28, 28)\n",
            "(64, 1, 28, 28)\n",
            "(64, 1, 28, 28)\n",
            "(64, 1, 28, 28)\n",
            "(64, 1, 28, 28)\n",
            "(64, 1, 28, 28)\n",
            "(64, 1, 28, 28)\n",
            "(64, 1, 28, 28)\n",
            "(64, 1, 28, 28)\n",
            "(64, 1, 28, 28)\n",
            "(64, 1, 28, 28)\n",
            "(64, 1, 28, 28)\n",
            "(64, 1, 28, 28)\n",
            "(64, 1, 28, 28)\n",
            "(64, 1, 28, 28)\n",
            "(64, 1, 28, 28)\n",
            "(64, 1, 28, 28)\n",
            "(64, 1, 28, 28)\n",
            "(64, 1, 28, 28)\n",
            "(64, 1, 28, 28)\n",
            "(64, 1, 28, 28)\n",
            "(64, 1, 28, 28)\n",
            "(64, 1, 28, 28)\n",
            "(64, 1, 28, 28)\n",
            "(64, 1, 28, 28)\n",
            "(64, 1, 28, 28)\n",
            "(64, 1, 28, 28)\n",
            "(64, 1, 28, 28)\n",
            "(64, 1, 28, 28)\n",
            "(64, 1, 28, 28)\n",
            "(64, 1, 28, 28)\n",
            "(64, 1, 28, 28)\n",
            "(64, 1, 28, 28)\n",
            "(64, 1, 28, 28)\n",
            "(64, 1, 28, 28)\n",
            "(64, 1, 28, 28)\n",
            "(64, 1, 28, 28)\n",
            "(64, 1, 28, 28)\n",
            "(64, 1, 28, 28)\n",
            "(64, 1, 28, 28)\n",
            "(64, 1, 28, 28)\n",
            "(64, 1, 28, 28)\n",
            "(64, 1, 28, 28)\n",
            "(64, 1, 28, 28)\n",
            "(64, 1, 28, 28)\n",
            "(64, 1, 28, 28)\n",
            "(64, 1, 28, 28)\n",
            "(64, 1, 28, 28)\n",
            "(16, 1, 28, 28)\n",
            "Average SSIM score: 0.7489\n"
          ]
        }
      ]
    },
    {
      "cell_type": "code",
      "source": [
        "plt.plot(sigmas, ssim_scores, marker='o')\n",
        "plt.title('Average SSIM Score vs. Sigma')\n",
        "plt.xlabel('Sigma')\n",
        "plt.ylabel('Average SSIM Score')"
      ],
      "metadata": {
        "id": "Rc4SWPc-R63l",
        "colab": {
          "base_uri": "https://localhost:8080/",
          "height": 489
        },
        "outputId": "504ad5ad-9a11-4c5f-e124-74a39f375ce1"
      },
      "execution_count": null,
      "outputs": [
        {
          "output_type": "execute_result",
          "data": {
            "text/plain": [
              "Text(0, 0.5, 'Average SSIM Score')"
            ]
          },
          "metadata": {},
          "execution_count": 36
        },
        {
          "output_type": "display_data",
          "data": {
            "text/plain": [
              "<Figure size 640x480 with 1 Axes>"
            ],
            "image/png": "[encoded data removed]"
          },
          "metadata": {}
        }
      ]
    },
    {
      "cell_type": "markdown",
      "source": [
        "# Observations and Analysis:\n",
        "* With the increase of sigma value the similarity between two images got reduced.\n",
        "* It suggests that higher levels of blurring introduce more distortion and high frequency information loss which is required for image reconstruction.Inturn it reduces the similarity."
      ],
      "metadata": {
        "id": "7aE4DR20zZ0n"
      }
    },
    {
      "cell_type": "code",
      "source": [
        "bottlenecks = [32,48,64]\n",
        "ssim_scores=[]\n",
        "for bottleneck in bottlenecks:\n",
        "    model = train(orig_imgs,bottleneck = bottleneck)\n",
        "\n",
        "    model = model.to(device)\n",
        "\n",
        "    ssim_score = test_model(model, test_loader)\n",
        "    print(f'Average SSIM score: {ssim_score:.4f}')\n",
        "    ssim_scores.append(ssim_score)"
      ],
      "metadata": {
        "id": "lFR4_uT6SPC6",
        "colab": {
          "base_uri": "https://localhost:8080/"
        },
        "outputId": "b9bf900b-3e9e-424a-d9d3-687772de2119"
      },
      "execution_count": null,
      "outputs": [
        {
          "output_type": "stream",
          "name": "stderr",
          "text": [
            "<ipython-input-7-2078f80d7c73>:7: UserWarning: To copy construct from a tensor, it is recommended to use sourceTensor.clone().detach() or sourceTensor.clone().detach().requires_grad_(True), rather than torch.tensor(sourceTensor).\n",
            "  noisy_images_list = [torch.tensor(noisy_img, device=device) for noisy_img in noisy_images_list]\n",
            "<ipython-input-7-2078f80d7c73>:8: UserWarning: To copy construct from a tensor, it is recommended to use sourceTensor.clone().detach() or sourceTensor.clone().detach().requires_grad_(True), rather than torch.tensor(sourceTensor).\n",
            "  orig_imgs = [torch.tensor(orig_img, device=device) for orig_img in orig_imgs]\n",
            " 10%|█         | 1/10 [00:21<03:10, 21.20s/it]"
          ]
        },
        {
          "output_type": "stream",
          "name": "stdout",
          "text": [
            "Epoch:1, Loss:0.0167\n"
          ]
        },
        {
          "output_type": "stream",
          "name": "stderr",
          "text": [
            "\r 20%|██        | 2/10 [00:42<02:48, 21.11s/it]"
          ]
        },
        {
          "output_type": "stream",
          "name": "stdout",
          "text": [
            "Epoch:2, Loss:0.0121\n"
          ]
        },
        {
          "output_type": "stream",
          "name": "stderr",
          "text": [
            "\r 30%|███       | 3/10 [01:02<02:25, 20.85s/it]"
          ]
        },
        {
          "output_type": "stream",
          "name": "stdout",
          "text": [
            "Epoch:3, Loss:0.0109\n"
          ]
        },
        {
          "output_type": "stream",
          "name": "stderr",
          "text": [
            "\r 40%|████      | 4/10 [01:24<02:07, 21.18s/it]"
          ]
        },
        {
          "output_type": "stream",
          "name": "stdout",
          "text": [
            "Epoch:4, Loss:0.0101\n"
          ]
        },
        {
          "output_type": "stream",
          "name": "stderr",
          "text": [
            "\r 50%|█████     | 5/10 [01:45<01:46, 21.26s/it]"
          ]
        },
        {
          "output_type": "stream",
          "name": "stdout",
          "text": [
            "Epoch:5, Loss:0.0097\n"
          ]
        },
        {
          "output_type": "stream",
          "name": "stderr",
          "text": [
            "\r 60%|██████    | 6/10 [02:06<01:24, 21.09s/it]"
          ]
        },
        {
          "output_type": "stream",
          "name": "stdout",
          "text": [
            "Epoch:6, Loss:0.0095\n"
          ]
        },
        {
          "output_type": "stream",
          "name": "stderr",
          "text": [
            "\r 70%|███████   | 7/10 [02:26<01:02, 20.85s/it]"
          ]
        },
        {
          "output_type": "stream",
          "name": "stdout",
          "text": [
            "Epoch:7, Loss:0.0093\n"
          ]
        },
        {
          "output_type": "stream",
          "name": "stderr",
          "text": [
            "\r 80%|████████  | 8/10 [02:47<00:41, 20.86s/it]"
          ]
        },
        {
          "output_type": "stream",
          "name": "stdout",
          "text": [
            "Epoch:8, Loss:0.0092\n"
          ]
        },
        {
          "output_type": "stream",
          "name": "stderr",
          "text": [
            "\r 90%|█████████ | 9/10 [03:08<00:20, 20.88s/it]"
          ]
        },
        {
          "output_type": "stream",
          "name": "stdout",
          "text": [
            "Epoch:9, Loss:0.0091\n"
          ]
        },
        {
          "output_type": "stream",
          "name": "stderr",
          "text": [
            "100%|██████████| 10/10 [03:29<00:00, 20.92s/it]"
          ]
        },
        {
          "output_type": "stream",
          "name": "stdout",
          "text": [
            "Epoch:10, Loss:0.0089\n"
          ]
        },
        {
          "output_type": "stream",
          "name": "stderr",
          "text": [
            "\n"
          ]
        },
        {
          "output_type": "stream",
          "name": "stdout",
          "text": [
            "Average SSIM score: 0.8871\n"
          ]
        },
        {
          "output_type": "stream",
          "name": "stderr",
          "text": [
            " 10%|█         | 1/10 [00:22<03:25, 22.80s/it]"
          ]
        },
        {
          "output_type": "stream",
          "name": "stdout",
          "text": [
            "Epoch:1, Loss:0.0171\n"
          ]
        },
        {
          "output_type": "stream",
          "name": "stderr",
          "text": [
            "\r 20%|██        | 2/10 [00:44<02:59, 22.40s/it]"
          ]
        },
        {
          "output_type": "stream",
          "name": "stdout",
          "text": [
            "Epoch:2, Loss:0.0117\n"
          ]
        },
        {
          "output_type": "stream",
          "name": "stderr",
          "text": [
            "\r 30%|███       | 3/10 [01:08<02:39, 22.74s/it]"
          ]
        },
        {
          "output_type": "stream",
          "name": "stdout",
          "text": [
            "Epoch:3, Loss:0.0101\n"
          ]
        },
        {
          "output_type": "stream",
          "name": "stderr",
          "text": [
            "\r 40%|████      | 4/10 [01:31<02:18, 23.05s/it]"
          ]
        },
        {
          "output_type": "stream",
          "name": "stdout",
          "text": [
            "Epoch:4, Loss:0.0094\n"
          ]
        },
        {
          "output_type": "stream",
          "name": "stderr",
          "text": [
            "\r 50%|█████     | 5/10 [01:54<01:55, 23.00s/it]"
          ]
        },
        {
          "output_type": "stream",
          "name": "stdout",
          "text": [
            "Epoch:5, Loss:0.0088\n"
          ]
        },
        {
          "output_type": "stream",
          "name": "stderr",
          "text": [
            "\r 60%|██████    | 6/10 [02:17<01:32, 23.08s/it]"
          ]
        },
        {
          "output_type": "stream",
          "name": "stdout",
          "text": [
            "Epoch:6, Loss:0.0085\n"
          ]
        },
        {
          "output_type": "stream",
          "name": "stderr",
          "text": [
            "\r 70%|███████   | 7/10 [02:40<01:09, 23.13s/it]"
          ]
        },
        {
          "output_type": "stream",
          "name": "stdout",
          "text": [
            "Epoch:7, Loss:0.0082\n"
          ]
        },
        {
          "output_type": "stream",
          "name": "stderr",
          "text": [
            "\r 80%|████████  | 8/10 [03:04<00:46, 23.19s/it]"
          ]
        },
        {
          "output_type": "stream",
          "name": "stdout",
          "text": [
            "Epoch:8, Loss:0.0080\n"
          ]
        },
        {
          "output_type": "stream",
          "name": "stderr",
          "text": [
            "\r 90%|█████████ | 9/10 [03:27<00:23, 23.27s/it]"
          ]
        },
        {
          "output_type": "stream",
          "name": "stdout",
          "text": [
            "Epoch:9, Loss:0.0078\n"
          ]
        },
        {
          "output_type": "stream",
          "name": "stderr",
          "text": [
            "100%|██████████| 10/10 [03:50<00:00, 23.06s/it]"
          ]
        },
        {
          "output_type": "stream",
          "name": "stdout",
          "text": [
            "Epoch:10, Loss:0.0077\n"
          ]
        },
        {
          "output_type": "stream",
          "name": "stderr",
          "text": [
            "\n"
          ]
        },
        {
          "output_type": "stream",
          "name": "stdout",
          "text": [
            "Average SSIM score: 0.8907\n"
          ]
        },
        {
          "output_type": "stream",
          "name": "stderr",
          "text": [
            " 10%|█         | 1/10 [00:23<03:35, 24.00s/it]"
          ]
        },
        {
          "output_type": "stream",
          "name": "stdout",
          "text": [
            "Epoch:1, Loss:0.0197\n"
          ]
        },
        {
          "output_type": "stream",
          "name": "stderr",
          "text": [
            "\r 20%|██        | 2/10 [00:48<03:15, 24.40s/it]"
          ]
        },
        {
          "output_type": "stream",
          "name": "stdout",
          "text": [
            "Epoch:2, Loss:0.0126\n"
          ]
        },
        {
          "output_type": "stream",
          "name": "stderr",
          "text": [
            "\r 30%|███       | 3/10 [01:13<02:53, 24.75s/it]"
          ]
        },
        {
          "output_type": "stream",
          "name": "stdout",
          "text": [
            "Epoch:3, Loss:0.0110\n"
          ]
        },
        {
          "output_type": "stream",
          "name": "stderr",
          "text": [
            "\r 40%|████      | 4/10 [01:39<02:30, 25.12s/it]"
          ]
        },
        {
          "output_type": "stream",
          "name": "stdout",
          "text": [
            "Epoch:4, Loss:0.0101\n"
          ]
        },
        {
          "output_type": "stream",
          "name": "stderr",
          "text": [
            "\r 50%|█████     | 5/10 [02:04<02:05, 25.00s/it]"
          ]
        },
        {
          "output_type": "stream",
          "name": "stdout",
          "text": [
            "Epoch:5, Loss:0.0095\n"
          ]
        },
        {
          "output_type": "stream",
          "name": "stderr",
          "text": [
            "\r 60%|██████    | 6/10 [02:29<01:40, 25.13s/it]"
          ]
        },
        {
          "output_type": "stream",
          "name": "stdout",
          "text": [
            "Epoch:6, Loss:0.0092\n"
          ]
        },
        {
          "output_type": "stream",
          "name": "stderr",
          "text": [
            "\r 70%|███████   | 7/10 [02:55<01:15, 25.22s/it]"
          ]
        },
        {
          "output_type": "stream",
          "name": "stdout",
          "text": [
            "Epoch:7, Loss:0.0090\n"
          ]
        },
        {
          "output_type": "stream",
          "name": "stderr",
          "text": [
            "\r 80%|████████  | 8/10 [03:20<00:50, 25.42s/it]"
          ]
        },
        {
          "output_type": "stream",
          "name": "stdout",
          "text": [
            "Epoch:8, Loss:0.0088\n"
          ]
        },
        {
          "output_type": "stream",
          "name": "stderr",
          "text": [
            "\r 90%|█████████ | 9/10 [03:46<00:25, 25.37s/it]"
          ]
        },
        {
          "output_type": "stream",
          "name": "stdout",
          "text": [
            "Epoch:9, Loss:0.0086\n"
          ]
        },
        {
          "output_type": "stream",
          "name": "stderr",
          "text": [
            "100%|██████████| 10/10 [04:11<00:00, 25.12s/it]"
          ]
        },
        {
          "output_type": "stream",
          "name": "stdout",
          "text": [
            "Epoch:10, Loss:0.0084\n"
          ]
        },
        {
          "output_type": "stream",
          "name": "stderr",
          "text": [
            "\n"
          ]
        },
        {
          "output_type": "stream",
          "name": "stdout",
          "text": [
            "Average SSIM score: 0.8945\n"
          ]
        }
      ]
    },
    {
      "cell_type": "code",
      "source": [
        "plt.plot(bottlenecks, ssim_scores, marker='o')\n",
        "plt.title('Average SSIM Score vs. BottleNecks')\n",
        "plt.xlabel('BottleNecks')\n",
        "plt.ylabel('Average SSIM Score')"
      ],
      "metadata": {
        "colab": {
          "base_uri": "https://localhost:8080/",
          "height": 489
        },
        "id": "WBhZ4cd-yV65",
        "outputId": "52e2b16f-982c-444c-bb05-84e1572f050c"
      },
      "execution_count": null,
      "outputs": [
        {
          "output_type": "execute_result",
          "data": {
            "text/plain": [
              "Text(0, 0.5, 'Average SSIM Score')"
            ]
          },
          "metadata": {},
          "execution_count": 13
        },
        {
          "output_type": "display_data",
          "data": {
            "text/plain": [
              "<Figure size 640x480 with 1 Axes>"
            ],
            "image/png": "[encoded data removed]"
          },
          "metadata": {}
        }
      ]
    },
    {
      "cell_type": "markdown",
      "source": [
        "# Observation and analysis:\n",
        "* With the increase bottleneck layer size the ssim score got increased.\n",
        "*  A larger bottleneck layer allowed the model to capture and preserve more information about the original image during the encoding phase. This increased capacity enabled the model to retain crucial details and structural information that might have been lost during blurring."
      ],
      "metadata": {
        "id": "GHXzEJhu1kND"
      }
    }
  ]
}